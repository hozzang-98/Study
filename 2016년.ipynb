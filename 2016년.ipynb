{
 "cells": [
  {
   "cell_type": "code",
   "execution_count": 1,
   "metadata": {},
   "outputs": [],
   "source": [
    "def is_prime(n):\n",
    "\n",
    "    if n == 1:\n",
    "\n",
    "        return False\n",
    "    \n",
    "    elif n == 2 or n == 3:\n",
    "\n",
    "        return True\n",
    "\n",
    "    else:\n",
    "\n",
    "        for i in range(2,int(n**0.5)+1):\n",
    "\n",
    "            if n % i == 0:\n",
    "\n",
    "                return False\n",
    "        \n",
    "        return True\n",
    "\n",
    "\n",
    "def solution(n):\n",
    "\n",
    "    answer = 0\n",
    "    \n",
    "    for i in range(1, n+1):\n",
    "\n",
    "        if is_prime(i):\n",
    "\n",
    "            answer += 1\n",
    "    \n",
    "    return answer"
   ]
  },
  {
   "cell_type": "code",
   "execution_count": 3,
   "metadata": {},
   "outputs": [],
   "source": [
    "def solution(n):\n",
    "    \n",
    "    prime = [True] * (n + 1)\n",
    "    prime[0] = prime[1] = False\n",
    "\n",
    "    for i in range(2, int(n ** 0.5) + 1):\n",
    "        if prime[i]:\n",
    "            for j in range(i*i, n+1, i):\n",
    "                prime[j] = False\n",
    "\n",
    "    return sum(prime)"
   ]
  }
 ],
 "metadata": {
  "kernelspec": {
   "display_name": "modeling_env",
   "language": "python",
   "name": "python3"
  },
  "language_info": {
   "codemirror_mode": {
    "name": "ipython",
    "version": 3
   },
   "file_extension": ".py",
   "mimetype": "text/x-python",
   "name": "python",
   "nbconvert_exporter": "python",
   "pygments_lexer": "ipython3",
   "version": "3.12.2"
  }
 },
 "nbformat": 4,
 "nbformat_minor": 2
}
