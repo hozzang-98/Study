{
 "cells": [
  {
   "cell_type": "code",
   "execution_count": 1,
   "metadata": {},
   "outputs": [],
   "source": [
    "def solution(msg):\n",
    "    answer = []\n",
    "    alphabet_dict = {chr(i): i - 64 for i in range(65, 91)}  # A~Z 초기 사전\n",
    "    idx = 27  # 새로운 색인 번호 (A~Z까지 26개 존재)\n",
    "    \n",
    "    i = 0\n",
    "    while i < len(msg):\n",
    "        w = msg[i]  # 현재 입력\n",
    "        while i + 1 < len(msg) and w + msg[i + 1] in alphabet_dict:\n",
    "            w += msg[i + 1]  # 사전에 있는 가장 긴 문자열 찾기\n",
    "            i += 1\n",
    "\n",
    "        answer.append(alphabet_dict[w])  # 색인 출력\n",
    "\n",
    "        if i + 1 < len(msg):  # 새로운 단어 추가 (입력이 남아있는 경우)\n",
    "            alphabet_dict[w + msg[i + 1]] = idx\n",
    "            idx += 1\n",
    "\n",
    "        i += 1  # 다음 문자로 이동\n",
    "\n",
    "    return answer"
   ]
  }
 ],
 "metadata": {
  "kernelspec": {
   "display_name": "modeling_env",
   "language": "python",
   "name": "python3"
  },
  "language_info": {
   "codemirror_mode": {
    "name": "ipython",
    "version": 3
   },
   "file_extension": ".py",
   "mimetype": "text/x-python",
   "name": "python",
   "nbconvert_exporter": "python",
   "pygments_lexer": "ipython3",
   "version": "3.12.2"
  }
 },
 "nbformat": 4,
 "nbformat_minor": 2
}
