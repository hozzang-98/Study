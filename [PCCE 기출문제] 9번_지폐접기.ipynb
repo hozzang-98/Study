{
 "cells": [
  {
   "cell_type": "code",
   "execution_count": 9,
   "metadata": {},
   "outputs": [],
   "source": [
    "def solution(wallet, bill):\n",
    "    answer = 0\n",
    "    w_min, w_max = sorted(wallet)\n",
    "    b_min, b_max = sorted(bill)\n",
    "\n",
    "    while b_min > w_min or b_max > w_max:\n",
    "        # 긴 쪽을 반으로 접기\n",
    "        if b_max >= b_min:\n",
    "            b_max //= 2\n",
    "        else:\n",
    "            b_min //= 2\n",
    "\n",
    "        answer += 1\n",
    "\n",
    "        # 다시 정렬된 상태 유지\n",
    "        b_min, b_max = sorted([b_min, b_max])\n",
    "\n",
    "    return answer"
   ]
  }
 ],
 "metadata": {
  "kernelspec": {
   "display_name": "modeling_env",
   "language": "python",
   "name": "python3"
  },
  "language_info": {
   "codemirror_mode": {
    "name": "ipython",
    "version": 3
   },
   "file_extension": ".py",
   "mimetype": "text/x-python",
   "name": "python",
   "nbconvert_exporter": "python",
   "pygments_lexer": "ipython3",
   "version": "3.12.2"
  }
 },
 "nbformat": 4,
 "nbformat_minor": 2
}
