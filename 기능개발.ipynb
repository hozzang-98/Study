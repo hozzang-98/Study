{
 "cells": [
  {
   "cell_type": "code",
   "execution_count": 14,
   "metadata": {},
   "outputs": [],
   "source": [
    "import math\n",
    "from collections import Counter\n",
    "\n",
    "def solution(progresses, speeds):\n",
    "\n",
    "    answer = []\n",
    "\n",
    "    for progress, speed in zip(progresses, speeds):\n",
    "\n",
    "        work = math.ceil((100 - progress) / speed) # 7, 3, 9\n",
    "\n",
    "        if len(answer) == 0 or answer[-1][0] < work:\n",
    "            \n",
    "            answer.append([work, 1])\n",
    "\n",
    "        else:\n",
    "\n",
    "            answer[-1][1] += 1\n",
    "\n",
    "    return [i[1] for i in answer]\n"
   ]
  }
 ],
 "metadata": {
  "kernelspec": {
   "display_name": "modeling_env",
   "language": "python",
   "name": "python3"
  },
  "language_info": {
   "codemirror_mode": {
    "name": "ipython",
    "version": 3
   },
   "file_extension": ".py",
   "mimetype": "text/x-python",
   "name": "python",
   "nbconvert_exporter": "python",
   "pygments_lexer": "ipython3",
   "version": "3.12.2"
  }
 },
 "nbformat": 4,
 "nbformat_minor": 2
}
