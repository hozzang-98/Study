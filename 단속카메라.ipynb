{
 "cells": [
  {
   "cell_type": "code",
   "execution_count": 1,
   "metadata": {},
   "outputs": [],
   "source": [
    "def solution(routes):\n",
    "    \n",
    "    routes.sort(key=lambda x: x[1])  # 진출 지점 기준 정렬\n",
    "    answer = 1  # 첫 번째 카메라는 첫 번째 차량의 진출 지점에 설치\n",
    "    camera = routes[0][1]  # 첫 번째 카메라 위치\n",
    "\n",
    "    for s, e in routes:\n",
    "        if s > camera:  # 현재 카메라로 단속이 안되는 경우\n",
    "            answer += 1\n",
    "            camera = e  # 새로운 카메라 설치\n",
    "\n",
    "    return answer"
   ]
  }
 ],
 "metadata": {
  "kernelspec": {
   "display_name": "modeling_env",
   "language": "python",
   "name": "python3"
  },
  "language_info": {
   "codemirror_mode": {
    "name": "ipython",
    "version": 3
   },
   "file_extension": ".py",
   "mimetype": "text/x-python",
   "name": "python",
   "nbconvert_exporter": "python",
   "pygments_lexer": "ipython3",
   "version": "3.12.2"
  }
 },
 "nbformat": 4,
 "nbformat_minor": 2
}
