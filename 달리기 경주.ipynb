{
 "cells": [
  {
   "cell_type": "code",
   "execution_count": 36,
   "metadata": {},
   "outputs": [],
   "source": [
    "def solution(players, callings):\n",
    "\n",
    "    players_dic = {name:idx for idx, name in enumerate(players)}\n",
    "\n",
    "    for calling in callings:\n",
    "\n",
    "        before = players_dic[calling]\n",
    "        players[before], players[before-1] = players[before-1], players[before]\n",
    "\n",
    "        players_dic[players[before]] = before\n",
    "        players_dic[players[before-1]] = before-1\n",
    "\n",
    "    return players"
   ]
  }
 ],
 "metadata": {
  "kernelspec": {
   "display_name": "modeling_env",
   "language": "python",
   "name": "python3"
  },
  "language_info": {
   "codemirror_mode": {
    "name": "ipython",
    "version": 3
   },
   "file_extension": ".py",
   "mimetype": "text/x-python",
   "name": "python",
   "nbconvert_exporter": "python",
   "pygments_lexer": "ipython3",
   "version": "3.12.2"
  }
 },
 "nbformat": 4,
 "nbformat_minor": 2
}
