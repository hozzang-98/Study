{
 "cells": [
  {
   "cell_type": "code",
   "execution_count": 1,
   "metadata": {},
   "outputs": [],
   "source": [
    "def solution(keymap, targets):\n",
    "    \n",
    "    answer = []\n",
    "\n",
    "    for target in targets:\n",
    "        \n",
    "        count = 0\n",
    "\n",
    "        for s in target:\n",
    "            \n",
    "            flag = False\n",
    "            now = 101\n",
    "\n",
    "            for key in keymap:\n",
    "\n",
    "                if s in key:\n",
    "                    now = min(key.index(s)+1, now)\n",
    "                    flag = True\n",
    "\n",
    "            if not flag:\n",
    "                \n",
    "                count = -1\n",
    "                break\n",
    "\n",
    "\n",
    "            count += now\n",
    "\n",
    "        answer.append(count)\n",
    "        \n",
    "\n",
    "    return answer"
   ]
  }
 ],
 "metadata": {
  "kernelspec": {
   "display_name": "modeling_env",
   "language": "python",
   "name": "python3"
  },
  "language_info": {
   "codemirror_mode": {
    "name": "ipython",
    "version": 3
   },
   "file_extension": ".py",
   "mimetype": "text/x-python",
   "name": "python",
   "nbconvert_exporter": "python",
   "pygments_lexer": "ipython3",
   "version": "3.12.2"
  }
 },
 "nbformat": 4,
 "nbformat_minor": 2
}
