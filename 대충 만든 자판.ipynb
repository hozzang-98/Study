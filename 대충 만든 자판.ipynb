{
 "cells": [
  {
   "cell_type": "code",
   "execution_count": 2,
   "metadata": {},
   "outputs": [],
   "source": [
    "def solution(keymap, targets):\n",
    "    # 1. 문자마다 최소 누름 수를 저장할 딕셔너리 생성\n",
    "    press = {}\n",
    "\n",
    "    for key in keymap:\n",
    "        for idx, char in enumerate(key):\n",
    "            # 더 적은 누름 수로 업데이트\n",
    "            if char not in press or press[char] > idx + 1:\n",
    "                press[char] = idx + 1\n",
    "\n",
    "    # 2. 각 target마다 총 누름 수 계산\n",
    "    answer = []\n",
    "    for word in targets:\n",
    "        total = 0\n",
    "        for char in word:\n",
    "            if char in press:\n",
    "                total += press[char]\n",
    "            else:\n",
    "                total = -1\n",
    "                break\n",
    "        answer.append(total)\n",
    "\n",
    "    return answer"
   ]
  }
 ],
 "metadata": {
  "kernelspec": {
   "display_name": "modeling_env",
   "language": "python",
   "name": "python3"
  },
  "language_info": {
   "codemirror_mode": {
    "name": "ipython",
    "version": 3
   },
   "file_extension": ".py",
   "mimetype": "text/x-python",
   "name": "python",
   "nbconvert_exporter": "python",
   "pygments_lexer": "ipython3",
   "version": "3.12.2"
  }
 },
 "nbformat": 4,
 "nbformat_minor": 2
}
