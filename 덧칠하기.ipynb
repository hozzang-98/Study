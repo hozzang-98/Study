{
 "cells": [
  {
   "cell_type": "code",
   "execution_count": 13,
   "metadata": {},
   "outputs": [],
   "source": [
    "import bisect\n",
    "\n",
    "def solution(n, m, section):\n",
    "    answer = 0\n",
    "    i = 0\n",
    "\n",
    "    while i < len(section):\n",
    "        answer += 1\n",
    "        end = section[i] + m - 1\n",
    "        # end보다 큰 값이 처음 등장하는 인덱스를 찾아서 그걸 i로 설정\n",
    "        i = bisect.bisect_right(section, end)\n",
    "\n",
    "    return answer"
   ]
  }
 ],
 "metadata": {
  "kernelspec": {
   "display_name": "modeling_env",
   "language": "python",
   "name": "python3"
  },
  "language_info": {
   "codemirror_mode": {
    "name": "ipython",
    "version": 3
   },
   "file_extension": ".py",
   "mimetype": "text/x-python",
   "name": "python",
   "nbconvert_exporter": "python",
   "pygments_lexer": "ipython3",
   "version": "3.12.2"
  }
 },
 "nbformat": 4,
 "nbformat_minor": 2
}
