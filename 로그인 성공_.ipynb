{
 "cells": [
  {
   "cell_type": "code",
   "execution_count": 1,
   "metadata": {},
   "outputs": [],
   "source": [
    "def solution(id_pw, db):\n",
    "\n",
    "    # 딕셔너리 변환\n",
    "    dic = dict(db)  \n",
    "\n",
    "    # 아이디가 없으면\n",
    "    if id_pw[0] not in dic: return \"fail\"\n",
    "    \n",
    "    return \"login\" if id_pw[1] == dic[id_pw[0]] else \"wrong pw\""
   ]
  }
 ],
 "metadata": {
  "kernelspec": {
   "display_name": "modeling_env",
   "language": "python",
   "name": "python3"
  },
  "language_info": {
   "codemirror_mode": {
    "name": "ipython",
    "version": 3
   },
   "file_extension": ".py",
   "mimetype": "text/x-python",
   "name": "python",
   "nbconvert_exporter": "python",
   "pygments_lexer": "ipython3",
   "version": "3.12.2"
  }
 },
 "nbformat": 4,
 "nbformat_minor": 2
}
