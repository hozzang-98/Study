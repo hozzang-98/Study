{
 "cells": [
  {
   "cell_type": "code",
   "execution_count": 2,
   "metadata": {},
   "outputs": [],
   "source": [
    "from itertools import combinations\n",
    "from collections import Counter\n",
    "\n",
    "def solution(orders, course):\n",
    "    answer = []\n",
    "\n",
    "    for i in course:  # 코스 요리의 메뉴 개수\n",
    "        temp = []  \n",
    "        \n",
    "        for order in orders:\n",
    "            temp.extend(combinations(sorted(order), i))  # 조합 리스트에 추가\n",
    "        \n",
    "        counter = Counter(temp)  # 조합 등장 횟수 계산\n",
    "        if not counter:  # 빈 딕셔너리면 패스\n",
    "            continue\n",
    "\n",
    "        max_count = max(counter.values())  # 가장 많이 등장한 횟수 찾기\n",
    "        if max_count < 2:  # 2번 미만으로 주문된 조합은 제외\n",
    "            continue\n",
    "\n",
    "        # 가장 많이 주문된 조합을 answer에 추가\n",
    "        answer.extend(''.join(menu) for menu, count in counter.items() if count == max_count)\n",
    "\n",
    "    return sorted(answer)  # 정렬 후 반환"
   ]
  }
 ],
 "metadata": {
  "kernelspec": {
   "display_name": "modeling_env",
   "language": "python",
   "name": "python3"
  },
  "language_info": {
   "codemirror_mode": {
    "name": "ipython",
    "version": 3
   },
   "file_extension": ".py",
   "mimetype": "text/x-python",
   "name": "python",
   "nbconvert_exporter": "python",
   "pygments_lexer": "ipython3",
   "version": "3.12.2"
  }
 },
 "nbformat": 4,
 "nbformat_minor": 2
}
