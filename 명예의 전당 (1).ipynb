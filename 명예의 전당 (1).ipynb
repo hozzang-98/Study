{
 "cells": [
  {
   "cell_type": "code",
   "execution_count": 1,
   "metadata": {},
   "outputs": [],
   "source": [
    "import heapq\n",
    "\n",
    "def solution(k, score):\n",
    "    answer = []\n",
    "    honor = []\n",
    "\n",
    "    for s in score:\n",
    "        heapq.heappush(honor, s)  # 점수 추가\n",
    "        if len(honor) > k:\n",
    "            heapq.heappop(honor)  # 가장 낮은 점수 제거\n",
    "        answer.append(honor[0])   # 최하위 점수 기록\n",
    "\n",
    "    return answer"
   ]
  }
 ],
 "metadata": {
  "kernelspec": {
   "display_name": "modeling_env",
   "language": "python",
   "name": "python3"
  },
  "language_info": {
   "codemirror_mode": {
    "name": "ipython",
    "version": 3
   },
   "file_extension": ".py",
   "mimetype": "text/x-python",
   "name": "python",
   "nbconvert_exporter": "python",
   "pygments_lexer": "ipython3",
   "version": "3.12.2"
  }
 },
 "nbformat": 4,
 "nbformat_minor": 2
}
