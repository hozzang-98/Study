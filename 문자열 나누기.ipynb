{
 "cells": [
  {
   "cell_type": "code",
   "execution_count": 2,
   "metadata": {},
   "outputs": [],
   "source": [
    "def solution(s):\n",
    "    answer = 0\n",
    "    same = 0\n",
    "    diff = 0\n",
    "\n",
    "    for i, char in enumerate(s):\n",
    "        if same == diff:\n",
    "            answer += 1\n",
    "            ref = char  # 기준 문자 갱신\n",
    "        if char == ref:\n",
    "            same += 1\n",
    "        else:\n",
    "            diff += 1\n",
    "\n",
    "    return answer"
   ]
  }
 ],
 "metadata": {
  "kernelspec": {
   "display_name": "modeling_env",
   "language": "python",
   "name": "python3"
  },
  "language_info": {
   "codemirror_mode": {
    "name": "ipython",
    "version": 3
   },
   "file_extension": ".py",
   "mimetype": "text/x-python",
   "name": "python",
   "nbconvert_exporter": "python",
   "pygments_lexer": "ipython3",
   "version": "3.12.2"
  }
 },
 "nbformat": 4,
 "nbformat_minor": 2
}
