{
 "cells": [
  {
   "cell_type": "code",
   "execution_count": 2,
   "metadata": {},
   "outputs": [],
   "source": [
    "def solution(wallpaper):\n",
    "    min_x = float('inf')\n",
    "    min_y = float('inf')\n",
    "    max_x = 0\n",
    "    max_y = 0\n",
    "\n",
    "    for i in range(len(wallpaper)):\n",
    "        for j in range(len(wallpaper[i])):\n",
    "            if wallpaper[i][j] == '#':\n",
    "                min_x = min(min_x, i)\n",
    "                min_y = min(min_y, j)\n",
    "                max_x = max(max_x, i)\n",
    "                max_y = max(max_y, j)\n",
    "\n",
    "    return [min_x, min_y, max_x + 1, max_y + 1]"
   ]
  }
 ],
 "metadata": {
  "kernelspec": {
   "display_name": "modeling_env",
   "language": "python",
   "name": "python3"
  },
  "language_info": {
   "codemirror_mode": {
    "name": "ipython",
    "version": 3
   },
   "file_extension": ".py",
   "mimetype": "text/x-python",
   "name": "python",
   "nbconvert_exporter": "python",
   "pygments_lexer": "ipython3",
   "version": "3.12.2"
  }
 },
 "nbformat": 4,
 "nbformat_minor": 2
}
