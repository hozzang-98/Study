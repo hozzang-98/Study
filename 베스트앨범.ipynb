{
 "cells": [
  {
   "cell_type": "code",
   "execution_count": 1,
   "metadata": {},
   "outputs": [],
   "source": [
    "from collections import defaultdict\n",
    "\n",
    "def solution(genres, plays):\n",
    "    genre_play_dict = defaultdict(int)  # 장르별 총 재생 횟수 저장\n",
    "    song_dict = defaultdict(list)  # 장르별 (재생 횟수, 고유번호) 저장\n",
    "\n",
    "    # 한 번의 반복문으로 모든 데이터 저장\n",
    "    for i, (genre, play) in enumerate(zip(genres, plays)):\n",
    "        genre_play_dict[genre] += play\n",
    "        song_dict[genre].append((play, i))\n",
    "\n",
    "    # 장르를 재생 횟수 기준으로 정렬\n",
    "    sorted_genres = sorted(genre_play_dict.keys(), key=lambda g: genre_play_dict[g], reverse=True)\n",
    "\n",
    "    answer = []\n",
    "    for genre in sorted_genres:\n",
    "        # (재생 횟수 내림차순, 고유번호 오름차순) 정렬 후 상위 2개 추출\n",
    "        best_songs = sorted(song_dict[genre], key=lambda x: (-x[0], x[1]))[:2]\n",
    "        answer.extend([idx for _, idx in best_songs])\n",
    "\n",
    "    return answer"
   ]
  }
 ],
 "metadata": {
  "kernelspec": {
   "display_name": "modeling_env",
   "language": "python",
   "name": "python3"
  },
  "language_info": {
   "codemirror_mode": {
    "name": "ipython",
    "version": 3
   },
   "file_extension": ".py",
   "mimetype": "text/x-python",
   "name": "python",
   "nbconvert_exporter": "python",
   "pygments_lexer": "ipython3",
   "version": "3.12.2"
  }
 },
 "nbformat": 4,
 "nbformat_minor": 2
}
