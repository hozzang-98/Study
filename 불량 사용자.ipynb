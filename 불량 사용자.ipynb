{
 "cells": [
  {
   "cell_type": "code",
   "execution_count": 1,
   "metadata": {},
   "outputs": [],
   "source": [
    "from itertools import product\n",
    "\n",
    "def is_match(user, banned):\n",
    "    if len(user) != len(banned):\n",
    "        return False\n",
    "    for u, b in zip(user, banned):\n",
    "        if b != '*' and u != b:\n",
    "            return False\n",
    "    return True\n",
    "\n",
    "def solution(user_id, banned_id):\n",
    "    from itertools import product\n",
    "\n",
    "    # 1️⃣ 각 banned_id에 매칭될 수 있는 user_id 리스트 생성\n",
    "    matches = []\n",
    "    for b_id in banned_id:\n",
    "        possible_users = [u_id for u_id in user_id if is_match(u_id, b_id)]\n",
    "        matches.append(possible_users)\n",
    "\n",
    "    # 2️⃣ 모든 가능한 조합을 만들어 중복을 제거 (set 사용)\n",
    "    result = set()\n",
    "    for candidate in product(*matches):  # 가능한 조합 생성\n",
    "        if len(set(candidate)) == len(banned_id):  # 중복 제거 후 길이 일치하는 경우만 저장\n",
    "            result.add(tuple(sorted(candidate)))  # 순서가 다를 경우 동일한 경우로 처리\n",
    "\n",
    "    return len(result)"
   ]
  }
 ],
 "metadata": {
  "kernelspec": {
   "display_name": "modeling_env",
   "language": "python",
   "name": "python3"
  },
  "language_info": {
   "codemirror_mode": {
    "name": "ipython",
    "version": 3
   },
   "file_extension": ".py",
   "mimetype": "text/x-python",
   "name": "python",
   "nbconvert_exporter": "python",
   "pygments_lexer": "ipython3",
   "version": "3.12.2"
  }
 },
 "nbformat": 4,
 "nbformat_minor": 2
}
