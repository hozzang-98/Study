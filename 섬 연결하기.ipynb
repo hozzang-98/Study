{
 "cells": [
  {
   "cell_type": "code",
   "execution_count": null,
   "metadata": {},
   "outputs": [],
   "source": [
    "import heapq\n",
    "\n",
    "def solution(n, costs):\n",
    "\n",
    "    answer = 0 \n",
    "    graph = {i:[] for i in range(n)}\n",
    "    \n",
    "    for i1, i2, cost in costs:\n",
    "\n",
    "        graph[i1].append((cost, i2))\n",
    "        graph[i2].append((cost, i1))\n",
    "\n",
    "    heap = [(0,0)]\n",
    "\n",
    "    visited = set()\n",
    "   \n",
    "    while len(visited) < n:\n",
    "\n",
    "        cost, island = heapq.heappop(heap) # 최소비용\n",
    "\n",
    "        if island in visited:\n",
    "\n",
    "            continue\n",
    "\n",
    "        visited.add(island)\n",
    "        answer += cost\n",
    "\n",
    "        for cost, new_island in graph[island]:\n",
    "\n",
    "            if new_island not in visited:\n",
    "\n",
    "                heapq.heappush(heap, (cost, new_island))\n",
    "\n",
    "    return answer"
   ]
  }
 ],
 "metadata": {
  "kernelspec": {
   "display_name": "modeling_env",
   "language": "python",
   "name": "python3"
  },
  "language_info": {
   "codemirror_mode": {
    "name": "ipython",
    "version": 3
   },
   "file_extension": ".py",
   "mimetype": "text/x-python",
   "name": "python",
   "nbconvert_exporter": "python",
   "pygments_lexer": "ipython3",
   "version": "3.12.2"
  }
 },
 "nbformat": 4,
 "nbformat_minor": 2
}
