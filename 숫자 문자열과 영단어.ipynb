{
 "cells": [
  {
   "cell_type": "code",
   "execution_count": 7,
   "metadata": {},
   "outputs": [],
   "source": [
    "from num2words import num2words\n",
    "import re\n",
    "\n",
    "def generate_dict():\n",
    "    return {num2words(i): str(i) for i in range(10)}\n",
    "\n",
    "def solution(s):\n",
    "\n",
    "    dic = generate_dict()\n",
    "\n",
    "    return int(re.sub('|'.join(dic.keys()), lambda x: dic[x.group()], s))"
   ]
  }
 ],
 "metadata": {
  "kernelspec": {
   "display_name": "modeling_env",
   "language": "python",
   "name": "python3"
  },
  "language_info": {
   "codemirror_mode": {
    "name": "ipython",
    "version": 3
   },
   "file_extension": ".py",
   "mimetype": "text/x-python",
   "name": "python",
   "nbconvert_exporter": "python",
   "pygments_lexer": "ipython3",
   "version": "3.12.2"
  }
 },
 "nbformat": 4,
 "nbformat_minor": 2
}
