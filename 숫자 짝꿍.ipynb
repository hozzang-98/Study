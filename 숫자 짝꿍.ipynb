{
 "cells": [
  {
   "cell_type": "code",
   "execution_count": 2,
   "metadata": {},
   "outputs": [],
   "source": [
    "from collections import Counter\n",
    "\n",
    "def solution(X, Y):\n",
    "    x_count = Counter(X)  # X의 숫자 개수 (문자 형태)\n",
    "    y_count = Counter(Y)  # Y의 숫자 개수 (문자 형태)\n",
    "\n",
    "    common_numbers = []\n",
    "    for num in map(str, range(9, -1, -1)):  # 숫자를 문자열로 변환하여 확인\n",
    "        if num in x_count and num in y_count:\n",
    "            common_numbers.extend([num] * min(x_count[num], y_count[num]))\n",
    "\n",
    "    if not common_numbers:\n",
    "        return \"-1\"\n",
    "    \n",
    "    result = \"\".join(common_numbers)\n",
    "    return \"0\" if result[0] == \"0\" else result"
   ]
  }
 ],
 "metadata": {
  "kernelspec": {
   "display_name": "modeling_env",
   "language": "python",
   "name": "python3"
  },
  "language_info": {
   "codemirror_mode": {
    "name": "ipython",
    "version": 3
   },
   "file_extension": ".py",
   "mimetype": "text/x-python",
   "name": "python",
   "nbconvert_exporter": "python",
   "pygments_lexer": "ipython3",
   "version": "3.12.2"
  }
 },
 "nbformat": 4,
 "nbformat_minor": 2
}
