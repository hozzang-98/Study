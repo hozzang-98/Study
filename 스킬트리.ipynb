{
 "cells": [
  {
   "cell_type": "code",
   "execution_count": 1,
   "metadata": {},
   "outputs": [],
   "source": [
    "def solution(skill, skill_trees):\n",
    "    answer = 0  # 가능한 스킬트리의 개수를 셀 변수 초기화\n",
    "    \n",
    "    for skill_tree in skill_trees:  # skill_trees에 포함된 각 스킬트리별로 확인\n",
    "        filtered = [s for s in skill_tree if s in skill]  # skill_tree에서 skill에 포함된 스킬만 추출\n",
    "        \n",
    "        # filtered가 skill의 순서대로 되어있는지 확인\n",
    "        if filtered == skill[:len(filtered)]:  \n",
    "            answer += 1  # 조건을 만족하면 가능한 스킬트리 개수 증가\n",
    "    \n",
    "    return answer  # 최종 가능한 스킬트리의 개수 반환"
   ]
  }
 ],
 "metadata": {
  "kernelspec": {
   "display_name": "modeling_env",
   "language": "python",
   "name": "python3"
  },
  "language_info": {
   "codemirror_mode": {
    "name": "ipython",
    "version": 3
   },
   "file_extension": ".py",
   "mimetype": "text/x-python",
   "name": "python",
   "nbconvert_exporter": "python",
   "pygments_lexer": "ipython3",
   "version": "3.12.2"
  }
 },
 "nbformat": 4,
 "nbformat_minor": 2
}
