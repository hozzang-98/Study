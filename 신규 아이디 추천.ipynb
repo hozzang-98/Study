{
 "cells": [
  {
   "cell_type": "code",
   "execution_count": 1,
   "metadata": {},
   "outputs": [],
   "source": [
    "import re\n",
    "\n",
    "def solution(new_id):\n",
    "    # 1단계: 소문자로 변환\n",
    "    new_id = new_id.lower()\n",
    "\n",
    "    # 2단계: 허용된 문자만 남기기\n",
    "    new_id = re.sub(r\"[^a-z0-9\\-\\_\\.]\", \"\", new_id)\n",
    "\n",
    "    # 3단계: 연속된 마침표를 하나로 변환\n",
    "    new_id = re.sub(r\"\\.{2,}\", \".\", new_id)\n",
    "\n",
    "    # 4단계: 마침표가 처음이나 끝에 위치하면 제거\n",
    "    new_id = new_id.strip(\".\")\n",
    "\n",
    "    # 5단계: 빈 문자열이면 \"a\" 대입\n",
    "    if not new_id:\n",
    "        new_id = \"a\"\n",
    "\n",
    "    # 6단계: 길이가 16자 이상이면 15자로 줄이고, 마지막 문자가 \".\"이면 제거\n",
    "    new_id = new_id[:15].rstrip(\".\")\n",
    "\n",
    "    # 7단계: 길이가 2 이하라면 마지막 문자를 반복해서 붙이기\n",
    "    while len(new_id) < 3:\n",
    "        new_id += new_id[-1]\n",
    "\n",
    "    return new_id"
   ]
  }
 ],
 "metadata": {
  "kernelspec": {
   "display_name": "modeling_env",
   "language": "python",
   "name": "python3"
  },
  "language_info": {
   "codemirror_mode": {
    "name": "ipython",
    "version": 3
   },
   "file_extension": ".py",
   "mimetype": "text/x-python",
   "name": "python",
   "nbconvert_exporter": "python",
   "pygments_lexer": "ipython3",
   "version": "3.12.2"
  }
 },
 "nbformat": 4,
 "nbformat_minor": 2
}
