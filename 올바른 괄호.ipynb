{
 "cells": [
  {
   "cell_type": "code",
   "execution_count": 1,
   "metadata": {},
   "outputs": [],
   "source": [
    "def solution(s):\n",
    "\n",
    "    stack = []  # 스택\n",
    "\n",
    "    for c in s:\n",
    "\n",
    "        if c == '(':\n",
    "            stack.append(c)  # 여는 괄호는 스택에 추가\n",
    "\n",
    "        elif c == ')':\n",
    "            if not stack:  # 스택이 비어 있으면 짝이 맞지 않음\n",
    "                return False\n",
    "            stack.pop()  # 짝을 맞춰서 여는 괄호 제거\n",
    "\n",
    "    return len(stack) == 0  # 스택이 비어 있으면 모든 괄호가 짝이 맞음"
   ]
  }
 ],
 "metadata": {
  "kernelspec": {
   "display_name": "modeling_env",
   "language": "python",
   "name": "python3"
  },
  "language_info": {
   "codemirror_mode": {
    "name": "ipython",
    "version": 3
   },
   "file_extension": ".py",
   "mimetype": "text/x-python",
   "name": "python",
   "nbconvert_exporter": "python",
   "pygments_lexer": "ipython3",
   "version": "3.12.2"
  }
 },
 "nbformat": 4,
 "nbformat_minor": 2
}
