{
 "cells": [
  {
   "cell_type": "code",
   "execution_count": 4,
   "metadata": {},
   "outputs": [],
   "source": [
    "import re\n",
    "\n",
    "def solution(babbling):\n",
    "    valid_sounds = [\"aya\", \"ye\", \"woo\", \"ma\"]\n",
    "    \n",
    "    count = 0\n",
    "    for word in babbling:\n",
    "        # 연속된 같은 단어가 있는지 확인 (예: \"ayaaya\", \"yeye\" 등)\n",
    "        if any(double in word for double in [\"ayaaya\", \"yeye\", \"woowoo\", \"mama\"]):\n",
    "            continue\n",
    "        \n",
    "        # 정규표현식으로 유효한 발음만 남겼을 때 빈 문자열이 되는지 확인\n",
    "        if re.sub(r\"(aya|ye|woo|ma)\", \"\", word) == \"\":\n",
    "            count += 1\n",
    "    \n",
    "    return count"
   ]
  }
 ],
 "metadata": {
  "kernelspec": {
   "display_name": "modeling_env",
   "language": "python",
   "name": "python3"
  },
  "language_info": {
   "codemirror_mode": {
    "name": "ipython",
    "version": 3
   },
   "file_extension": ".py",
   "mimetype": "text/x-python",
   "name": "python",
   "nbconvert_exporter": "python",
   "pygments_lexer": "ipython3",
   "version": "3.12.2"
  }
 },
 "nbformat": 4,
 "nbformat_minor": 2
}
