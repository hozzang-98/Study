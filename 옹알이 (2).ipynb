{
 "cells": [
  {
   "cell_type": "code",
   "execution_count": 2,
   "metadata": {},
   "outputs": [],
   "source": [
    "import re\n",
    "\n",
    "def solution(babbling):\n",
    "    \n",
    "    pattern = re.compile(r'^(aya|ye|woo|ma)(?!\\1)(aya|ye|woo|ma)*(?!\\2)(aya|ye|woo|ma)*(?!\\3)(aya|ye|woo|ma)*$')\n",
    "    \n",
    "    return sum(1 for b in babbling if pattern.fullmatch(b))"
   ]
  }
 ],
 "metadata": {
  "kernelspec": {
   "display_name": "modeling_env",
   "language": "python",
   "name": "python3"
  },
  "language_info": {
   "codemirror_mode": {
    "name": "ipython",
    "version": 3
   },
   "file_extension": ".py",
   "mimetype": "text/x-python",
   "name": "python",
   "nbconvert_exporter": "python",
   "pygments_lexer": "ipython3",
   "version": "3.12.2"
  }
 },
 "nbformat": 4,
 "nbformat_minor": 2
}
