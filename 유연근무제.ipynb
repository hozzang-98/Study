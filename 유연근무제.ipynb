{
 "cells": [
  {
   "cell_type": "code",
   "execution_count": 10,
   "metadata": {},
   "outputs": [],
   "source": [
    "def add_minutes(time, minutes):\n",
    "    hour = time // 100\n",
    "    minute = time % 100\n",
    "    minute += minutes\n",
    "    hour += minute // 60\n",
    "    minute %= 60\n",
    "    return hour * 100 + minute\n",
    "\n",
    "def solution(schedules, timelogs, startday):\n",
    "\n",
    "    answer = 0\n",
    "\n",
    "    for schedule, timelog in zip(schedules, timelogs):\n",
    "        \n",
    "        current_day = startday\n",
    "        sign = True\n",
    "\n",
    "        for time in timelog:\n",
    "            \n",
    "            # 토,일은 Pass\n",
    "            if current_day <= 5:\n",
    "\n",
    "                latest = add_minutes(schedule, 10)\n",
    "\n",
    "                if time > latest:\n",
    "\n",
    "                    sign = False\n",
    "                    break\n",
    "\n",
    "            current_day += 1\n",
    "\n",
    "            if current_day > 7: current_day = 1\n",
    "\n",
    "        if sign:\n",
    "\n",
    "            answer += 1\n",
    "\n",
    "    return answer"
   ]
  }
 ],
 "metadata": {
  "kernelspec": {
   "display_name": "modeling_env",
   "language": "python",
   "name": "python3"
  },
  "language_info": {
   "codemirror_mode": {
    "name": "ipython",
    "version": 3
   },
   "file_extension": ".py",
   "mimetype": "text/x-python",
   "name": "python",
   "nbconvert_exporter": "python",
   "pygments_lexer": "ipython3",
   "version": "3.12.2"
  }
 },
 "nbformat": 4,
 "nbformat_minor": 2
}
