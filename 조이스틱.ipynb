{
 "cells": [
  {
   "cell_type": "code",
   "execution_count": 1,
   "metadata": {},
   "outputs": [],
   "source": [
    "def solution(name):\n",
    "\n",
    "    answer = 0\n",
    "    min_move = len(name) - 1  # 오른쪽으로만 이동하는 경우\n",
    "\n",
    "    for i, char in enumerate(name):\n",
    "        # ▲, ▼ 최소 이동\n",
    "        answer += min(ord(char) - ord('A'), ord('Z') - ord(char) + 1)\n",
    "\n",
    "        # 연속된 'A' 확인\n",
    "        next_idx = i + 1\n",
    "        while next_idx < len(name) and name[next_idx] == 'A':\n",
    "            next_idx += 1\n",
    "\n",
    "        # 최소 커서 이동 계산\n",
    "        min_move = min(min_move, i + i + len(name) - next_idx, i + 2 * (len(name) - next_idx))\n",
    "\n",
    "    return answer + min_move"
   ]
  }
 ],
 "metadata": {
  "kernelspec": {
   "display_name": "modeling_env",
   "language": "python",
   "name": "python3"
  },
  "language_info": {
   "codemirror_mode": {
    "name": "ipython",
    "version": 3
   },
   "file_extension": ".py",
   "mimetype": "text/x-python",
   "name": "python",
   "nbconvert_exporter": "python",
   "pygments_lexer": "ipython3",
   "version": "3.12.2"
  }
 },
 "nbformat": 4,
 "nbformat_minor": 2
}
