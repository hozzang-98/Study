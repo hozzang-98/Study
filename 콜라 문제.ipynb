{
 "cells": [
  {
   "cell_type": "code",
   "execution_count": 2,
   "metadata": {},
   "outputs": [],
   "source": [
    "def solution(a, b, n):\n",
    "    total_cola = 0\n",
    "    \n",
    "    while n >= a:\n",
    "        exchanged = (n // a) * b\n",
    "        total_cola += exchanged\n",
    "        n = exchanged + (n % a)\n",
    "\n",
    "    return total_cola"
   ]
  }
 ],
 "metadata": {
  "kernelspec": {
   "display_name": "modeling_env",
   "language": "python",
   "name": "python3"
  },
  "language_info": {
   "codemirror_mode": {
    "name": "ipython",
    "version": 3
   },
   "file_extension": ".py",
   "mimetype": "text/x-python",
   "name": "python",
   "nbconvert_exporter": "python",
   "pygments_lexer": "ipython3",
   "version": "3.12.2"
  }
 },
 "nbformat": 4,
 "nbformat_minor": 2
}
