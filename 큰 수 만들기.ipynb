{
 "cells": [
  {
   "cell_type": "code",
   "execution_count": null,
   "metadata": {},
   "outputs": [],
   "source": [
    "def solution(number, k):\n",
    "\n",
    "    answer = []  # 스택 역할\n",
    "    \n",
    "    for n in number:\n",
    "\n",
    "        while k > 0 and answer and answer[-1] < n:  # 비교 연산 최적화\n",
    "\n",
    "            answer.pop()\n",
    "            k -= 1\n",
    "            \n",
    "        answer.append(n)  # 바로 문자열 추가\n",
    "\n",
    "    return ''.join(answer[:len(answer)-k])  # 최종 숫자 반환"
   ]
  }
 ],
 "metadata": {
  "kernelspec": {
   "display_name": "modeling_env",
   "language": "python",
   "name": "python3"
  },
  "language_info": {
   "codemirror_mode": {
    "name": "ipython",
    "version": 3
   },
   "file_extension": ".py",
   "mimetype": "text/x-python",
   "name": "python",
   "nbconvert_exporter": "python",
   "pygments_lexer": "ipython3",
   "version": "3.12.2"
  }
 },
 "nbformat": 4,
 "nbformat_minor": 2
}
