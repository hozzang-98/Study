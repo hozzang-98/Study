{
 "cells": [
  {
   "cell_type": "code",
   "execution_count": 2,
   "metadata": {},
   "outputs": [],
   "source": [
    "def slope(dot1, dot2):\n",
    "\n",
    "    x1, y1 = dot1\n",
    "    x2, y2 = dot2\n",
    "    \n",
    "    return float('inf') if x1 == x2 else (y2 - y1) / (x2 - x1)\n",
    "\n",
    "def solution(dots):\n",
    "\n",
    "    # 가능한 모든 직선 조합에서 기울기가 같은 경우를 찾음\n",
    "    pairs = [\n",
    "        (dots[0], dots[1], dots[2], dots[3]),\n",
    "        (dots[0], dots[2], dots[1], dots[3]),\n",
    "        (dots[0], dots[3], dots[1], dots[2])\n",
    "    ]\n",
    "    \n",
    "    for dot1, dot2, dot3, dot4 in pairs:\n",
    "    \n",
    "        if slope(dot1, dot2) == slope(dot3, dot4):\n",
    "            return 1\n",
    "            \n",
    "    return 0"
   ]
  }
 ],
 "metadata": {
  "kernelspec": {
   "display_name": "modeling_env",
   "language": "python",
   "name": "python3"
  },
  "language_info": {
   "codemirror_mode": {
    "name": "ipython",
    "version": 3
   },
   "file_extension": ".py",
   "mimetype": "text/x-python",
   "name": "python",
   "nbconvert_exporter": "python",
   "pygments_lexer": "ipython3",
   "version": "3.12.2"
  }
 },
 "nbformat": 4,
 "nbformat_minor": 2
}
