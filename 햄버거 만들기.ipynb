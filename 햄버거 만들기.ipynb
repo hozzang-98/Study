{
 "cells": [
  {
   "cell_type": "code",
   "execution_count": 1,
   "metadata": {},
   "outputs": [],
   "source": [
    "def solution(ingredient):\n",
    "    answer = 0\n",
    "    stack = []\n",
    "\n",
    "    for ing in ingredient:\n",
    "        stack.append(ing)\n",
    "        if len(stack) >= 4:\n",
    "            if stack[-4] == 1 and stack[-3] == 2 and stack[-2] == 3 and stack[-1] == 1:\n",
    "                answer += 1\n",
    "                for _ in range(4):\n",
    "                    stack.pop()\n",
    "    return answer"
   ]
  }
 ],
 "metadata": {
  "kernelspec": {
   "display_name": "modeling_env",
   "language": "python",
   "name": "python3"
  },
  "language_info": {
   "codemirror_mode": {
    "name": "ipython",
    "version": 3
   },
   "file_extension": ".py",
   "mimetype": "text/x-python",
   "name": "python",
   "nbconvert_exporter": "python",
   "pygments_lexer": "ipython3",
   "version": "3.12.2"
  }
 },
 "nbformat": 4,
 "nbformat_minor": 2
}
