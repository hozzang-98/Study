{
 "cells": [
  {
   "cell_type": "code",
   "execution_count": 1,
   "metadata": {},
   "outputs": [],
   "source": [
    "import heapq\n",
    "\n",
    "def solution(book_time):\n",
    "    # 예약 시간을 분 단위로 변환 후 정렬\n",
    "    book_time = sorted([[int(s[:2]) * 60 + int(s[3:]), int(e[:2]) * 60 + int(e[3:]) + 10] for s, e in book_time])\n",
    "    \n",
    "    heap = []  # 사용 중인 방의 종료 시간을 저장할 최소 힙\n",
    "\n",
    "    for start, end in book_time:\n",
    "        if heap and heap[0] <= start:\n",
    "            heapq.heappop(heap)  # 기존 방을 재사용 가능하면 제거\n",
    "        heapq.heappush(heap, end)  # 새 방의 종료 시간 추가\n",
    "\n",
    "    return len(heap)  # 필요한 방의 개수"
   ]
  }
 ],
 "metadata": {
  "kernelspec": {
   "display_name": "modeling_env",
   "language": "python",
   "name": "python3"
  },
  "language_info": {
   "codemirror_mode": {
    "name": "ipython",
    "version": 3
   },
   "file_extension": ".py",
   "mimetype": "text/x-python",
   "name": "python",
   "nbconvert_exporter": "python",
   "pygments_lexer": "ipython3",
   "version": "3.12.2"
  }
 },
 "nbformat": 4,
 "nbformat_minor": 2
}
