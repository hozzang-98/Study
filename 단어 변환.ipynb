{
 "cells": [
  {
   "cell_type": "code",
   "execution_count": 1,
   "metadata": {},
   "outputs": [],
   "source": [
    "from collections import deque\n",
    "\n",
    "def can_transform(word1, word2):\n",
    "    \"\"\" 두 단어가 한 글자 차이인지 판별 \"\"\"\n",
    "    return sum([w1 != w2 for w1, w2 in zip(word1, word2)]) == 1\n",
    "\n",
    "def solution(begin, target, words):\n",
    "    if target not in words:  \n",
    "        return 0  # target이 words에 없으면 변환 불가능\n",
    "\n",
    "    queue = deque([(begin, 0)])  # (현재 단어, 변환 횟수)\n",
    "    visited = set()  # 방문한 단어 집합\n",
    "\n",
    "    while queue:\n",
    "        word, cnt = queue.popleft()\n",
    "        if word == target:\n",
    "            return cnt  # 최소 변환 횟수 반환\n",
    "\n",
    "        for next_word in words:\n",
    "            if next_word not in visited and can_transform(word, next_word):\n",
    "                queue.append((next_word, cnt + 1))\n",
    "                visited.add(next_word)  # 방문 처리\n",
    "\n",
    "    return 0  # 변환 불가능한 경우"
   ]
  }
 ],
 "metadata": {
  "kernelspec": {
   "display_name": "modeling_env",
   "language": "python",
   "name": "python3"
  },
  "language_info": {
   "codemirror_mode": {
    "name": "ipython",
    "version": 3
   },
   "file_extension": ".py",
   "mimetype": "text/x-python",
   "name": "python",
   "nbconvert_exporter": "python",
   "pygments_lexer": "ipython3",
   "version": "3.12.2"
  }
 },
 "nbformat": 4,
 "nbformat_minor": 2
}
