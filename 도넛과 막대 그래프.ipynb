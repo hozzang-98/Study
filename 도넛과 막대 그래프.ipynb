{
 "cells": [
  {
   "cell_type": "code",
   "execution_count": 1,
   "metadata": {},
   "outputs": [],
   "source": [
    "def solution(edges):\n",
    "    s = 0\n",
    "    d_cnt = 0 # 도넛\n",
    "    b_cnt = 0 # 막대\n",
    "    e_cnt = 0 # 8자\n",
    "    edge_cnt_dic = {} # edge_num : [in_cnt, out_cnt]\n",
    "\n",
    "    for edge_in, edge_out in edges:\n",
    "    \n",
    "        if not edge_in in edge_cnt_dic.keys():\n",
    "\n",
    "            edge_cnt_dic[edge_in] = [0,0]\n",
    "\n",
    "        if not edge_out in edge_cnt_dic.keys():\n",
    "\n",
    "            edge_cnt_dic[edge_out] = [0,0]\n",
    "\n",
    "        edge_cnt_dic[edge_in][0] += 1\n",
    "        edge_cnt_dic[edge_out][1] += 1\n",
    "\n",
    "\n",
    "    for k,v in edge_cnt_dic.items():\n",
    "\n",
    "        out_ = v[0]\n",
    "        in_ = v[1]\n",
    "\n",
    "        if (out_ >= 2)  & (in_ == 0):\n",
    "\n",
    "            s = k\n",
    "\n",
    "        elif (out_ == 0) & (in_ > 0):\n",
    "\n",
    "            b_cnt += 1\n",
    "\n",
    "        elif (out_ >= 2) & (in_ >= 2):\n",
    "\n",
    "            e_cnt += 1\n",
    "        \n",
    "    answer = [s,d_cnt,b_cnt,e_cnt]\n",
    "    d_cnt = edge_cnt_dic[s][0] - b_cnt - e_cnt\n",
    "\n",
    "    answer = [s,d_cnt,b_cnt,e_cnt]\n",
    "    \n",
    "    return answer"
   ]
  }
 ],
 "metadata": {
  "kernelspec": {
   "display_name": "modeling_env",
   "language": "python",
   "name": "python3"
  },
  "language_info": {
   "codemirror_mode": {
    "name": "ipython",
    "version": 3
   },
   "file_extension": ".py",
   "mimetype": "text/x-python",
   "name": "python",
   "nbconvert_exporter": "python",
   "pygments_lexer": "ipython3",
   "version": "3.12.2"
  }
 },
 "nbformat": 4,
 "nbformat_minor": 2
}
