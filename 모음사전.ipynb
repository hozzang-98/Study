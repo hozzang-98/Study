{
 "cells": [
  {
   "cell_type": "code",
   "execution_count": 1,
   "metadata": {},
   "outputs": [],
   "source": [
    "def solution(word):\n",
    "\n",
    "    vowels = \"AEIOU\"  # 모음 리스트\n",
    "    weights = [781, 156, 31, 6, 1]  # 각 자리의 가중치 (5⁴, 5³, 5², 5¹, 5⁰)\n",
    "\n",
    "    index = 0\n",
    "    for i, ch in enumerate(word):  # 단어의 각 문자에 대해 계산\n",
    "        index += vowels.index(ch) * weights[i] + 1\n",
    "\n",
    "    return index"
   ]
  }
 ],
 "metadata": {
  "kernelspec": {
   "display_name": "modeling_env",
   "language": "python",
   "name": "python3"
  },
  "language_info": {
   "codemirror_mode": {
    "name": "ipython",
    "version": 3
   },
   "file_extension": ".py",
   "mimetype": "text/x-python",
   "name": "python",
   "nbconvert_exporter": "python",
   "pygments_lexer": "ipython3",
   "version": "3.12.2"
  }
 },
 "nbformat": 4,
 "nbformat_minor": 2
}
