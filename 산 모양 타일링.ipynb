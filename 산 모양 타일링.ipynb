{
 "cells": [
  {
   "cell_type": "code",
   "execution_count": 1,
   "metadata": {},
   "outputs": [],
   "source": [
    "def solution(n, tops):\n",
    "  \n",
    "    # i번째 아래 삼각형을 3번으로 하면, i+1번째 아래 삼각형을 2번으로 못하므로 경우의 수를 아래 2가지로 나눈다.\n",
    "    a = [0] * (n+1) # 3번으로 했을 경우\n",
    "    b = [0] * (n+1) # 3번 아닌 걸로 했을 경우\n",
    "    m = 10007\n",
    "    a[0] = 0\n",
    "    b[0] = 1 # 4번으로 가능\n",
    "\n",
    "    for idx, top in enumerate(tops): # 0~3\n",
    "\n",
    "        if top == 1:\n",
    "\n",
    "            a[idx+1] = (a[idx] + b[idx])% m\n",
    "            b[idx+1] = (2*a[idx] + 3*b[idx])% m\n",
    "\n",
    "        else:\n",
    "\n",
    "            a[idx+1] = (a[idx] + b[idx]) % m\n",
    "            b[idx+1] = (a[idx] + 2*b[idx])% m\n",
    "            \n",
    "    return (a[n] + b[n]) % m"
   ]
  }
 ],
 "metadata": {
  "kernelspec": {
   "display_name": "modeling_env",
   "language": "python",
   "name": "python3"
  },
  "language_info": {
   "codemirror_mode": {
    "name": "ipython",
    "version": 3
   },
   "file_extension": ".py",
   "mimetype": "text/x-python",
   "name": "python",
   "nbconvert_exporter": "python",
   "pygments_lexer": "ipython3",
   "version": "3.12.2"
  }
 },
 "nbformat": 4,
 "nbformat_minor": 2
}
