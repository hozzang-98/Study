{
 "cells": [
  {
   "cell_type": "code",
   "execution_count": 1,
   "metadata": {},
   "outputs": [],
   "source": [
    "def solution(n):\n",
    "    count = 0\n",
    "    \n",
    "    # k는 연속된 자연수의 개수 (1부터 n까지 시도)\n",
    "    for k in range(1, n + 1):\n",
    "        # n - k(k-1)/2가 k로 나누어떨어지는지 확인\n",
    "        if (n - k * (k - 1) // 2) % k == 0 and (n - k * (k - 1) // 2) > 0:\n",
    "            count += 1\n",
    "    \n",
    "    return count"
   ]
  }
 ],
 "metadata": {
  "kernelspec": {
   "display_name": "modeling_env",
   "language": "python",
   "name": "python3"
  },
  "language_info": {
   "codemirror_mode": {
    "name": "ipython",
    "version": 3
   },
   "file_extension": ".py",
   "mimetype": "text/x-python",
   "name": "python",
   "nbconvert_exporter": "python",
   "pygments_lexer": "ipython3",
   "version": "3.12.2"
  }
 },
 "nbformat": 4,
 "nbformat_minor": 2
}
