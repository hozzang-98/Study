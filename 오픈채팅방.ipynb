{
 "cells": [
  {
   "cell_type": "code",
   "execution_count": 2,
   "metadata": {},
   "outputs": [],
   "source": [
    "def solution(record):\n",
    "\n",
    "    answer = []\n",
    "\n",
    "    # 아이디: 닉네임 Dictionary \n",
    "    dic = {}\n",
    "\n",
    "    for rec in record:\n",
    "\n",
    "        if 'Enter' in rec or 'Change' in rec:\n",
    "\n",
    "            dic[rec.split()[1]] = rec.split()[2]\n",
    "\n",
    "    for rec in record:\n",
    "\n",
    "        if 'Enter' in rec:\n",
    "\n",
    "            answer.append(\"{}님이 들어왔습니다.\".format(dic[rec.split()[1]]))\n",
    "\n",
    "        elif 'Leave' in rec:\n",
    "\n",
    "            answer.append(\"{}님이 나갔습니다.\".format(dic[rec.split()[1]]))\n",
    "\n",
    "    return answer"
   ]
  }
 ],
 "metadata": {
  "kernelspec": {
   "display_name": "modeling_env",
   "language": "python",
   "name": "python3"
  },
  "language_info": {
   "codemirror_mode": {
    "name": "ipython",
    "version": 3
   },
   "file_extension": ".py",
   "mimetype": "text/x-python",
   "name": "python",
   "nbconvert_exporter": "python",
   "pygments_lexer": "ipython3",
   "version": "3.12.2"
  }
 },
 "nbformat": 4,
 "nbformat_minor": 2
}
