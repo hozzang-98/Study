{
 "cells": [
  {
   "cell_type": "code",
   "execution_count": 1,
   "metadata": {},
   "outputs": [],
   "source": [
    "def solution(distance, rocks, n):\n",
    "    \n",
    "    rocks.append(distance)  # 도착지점을 rocks에 추가\n",
    "    rocks.sort()  # 정렬\n",
    "\n",
    "    left, right = 1, distance  # 최소 거리 범위 설정\n",
    "\n",
    "    while left <= right:\n",
    "        mid = (left + right) // 2  # 거리의 최솟값 후보\n",
    "        current, removed = 0, 0  # 현재 위치, 제거한 바위 개수\n",
    "\n",
    "        for rock in rocks:\n",
    "            if rock - current < mid:  # mid보다 짧은 거리는 제거\n",
    "                removed += 1\n",
    "            else:\n",
    "                current = rock  # 바위 유지\n",
    "\n",
    "        if removed > n:  # 너무 많이 제거했다면 mid 줄이기\n",
    "            right = mid - 1\n",
    "        else:  # n개 이하로 제거했으면 mid 늘리기\n",
    "            left = mid + 1  # 최소 거리를 늘려본다\n",
    "\n",
    "    return right  # 최적의 최소 거리 반환"
   ]
  }
 ],
 "metadata": {
  "kernelspec": {
   "display_name": "modeling_env",
   "language": "python",
   "name": "python3"
  },
  "language_info": {
   "codemirror_mode": {
    "name": "ipython",
    "version": 3
   },
   "file_extension": ".py",
   "mimetype": "text/x-python",
   "name": "python",
   "nbconvert_exporter": "python",
   "pygments_lexer": "ipython3",
   "version": "3.12.2"
  }
 },
 "nbformat": 4,
 "nbformat_minor": 2
}
