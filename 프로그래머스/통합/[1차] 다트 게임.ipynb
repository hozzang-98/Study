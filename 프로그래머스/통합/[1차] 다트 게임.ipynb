{
 "cells": [
  {
   "cell_type": "code",
   "execution_count": 7,
   "metadata": {},
   "outputs": [],
   "source": [
    "import re\n",
    "\n",
    "def solution(dartResult):\n",
    "\n",
    "    p = re.compile(r'(\\d+)([SDT])([*#]?)')\n",
    "    dart = p.findall(dartResult)\n",
    "    \n",
    "    scores = []\n",
    "\n",
    "    for i, (num, bonus, option) in enumerate(dart):\n",
    "        score = int(num) ** {\"S\": 1, \"D\": 2, \"T\": 3}[bonus]\n",
    "\n",
    "        if option == \"*\":\n",
    "            if scores:\n",
    "                scores[-1] *= 2\n",
    "            score *= 2\n",
    "        elif option == \"#\":\n",
    "            score *= -1\n",
    "\n",
    "        scores.append(score)\n",
    "\n",
    "    return sum(scores)"
   ]
  }
 ],
 "metadata": {
  "kernelspec": {
   "display_name": "modeling_env",
   "language": "python",
   "name": "python3"
  },
  "language_info": {
   "codemirror_mode": {
    "name": "ipython",
    "version": 3
   },
   "file_extension": ".py",
   "mimetype": "text/x-python",
   "name": "python",
   "nbconvert_exporter": "python",
   "pygments_lexer": "ipython3",
   "version": "3.12.2"
  }
 },
 "nbformat": 4,
 "nbformat_minor": 2
}
