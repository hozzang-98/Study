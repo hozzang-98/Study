{
 "cells": [
  {
   "cell_type": "code",
   "execution_count": null,
   "metadata": {},
   "outputs": [],
   "source": [
    "import re\n",
    "\n",
    "def solution(files):\n",
    "\n",
    "    answer = [re.split(r'([0-9]+)',i) for i in files] # 정규 표현식을 활용해 숫자인 걸 기준으로 split해 list 생성\n",
    "\n",
    "    answer.sort(key=lambda x:(x[0].lower(),int(x[1]))) # head, number 기준 정렬\n",
    "\n",
    "    answer = [''.join(i) for i in answer] # 다시 Join\n",
    "\n",
    "    return answer"
   ]
  },
  {
   "cell_type": "code",
   "execution_count": null,
   "metadata": {},
   "outputs": [],
   "source": [
    "import re\n",
    "\n",
    "def solution(files):\n",
    "\n",
    "    def key_func(file):\n",
    "\n",
    "        match = re.match(r'([^\\d]+)(\\d+)(.*)', file)  # HEAD, NUMBER, TAIL 추출\n",
    "        head, number, tail = match.groups()\n",
    "        \n",
    "        return (head.lower(), int(number))  # 정렬 기준 적용\n",
    "\n",
    "    return sorted(files, key=key_func)"
   ]
  }
 ],
 "metadata": {
  "kernelspec": {
   "display_name": "modeling_env",
   "language": "python",
   "name": "python3"
  },
  "language_info": {
   "codemirror_mode": {
    "name": "ipython",
    "version": 3
   },
   "file_extension": ".py",
   "mimetype": "text/x-python",
   "name": "python",
   "nbconvert_exporter": "python",
   "pygments_lexer": "ipython3",
   "version": "3.12.2"
  }
 },
 "nbformat": 4,
 "nbformat_minor": 2
}
