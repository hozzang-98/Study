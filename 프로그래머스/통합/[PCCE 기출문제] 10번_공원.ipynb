{
 "cells": [
  {
   "cell_type": "code",
   "execution_count": 8,
   "metadata": {},
   "outputs": [],
   "source": [
    "def solution(mats, park):\n",
    "    h, w = len(park), len(park[0])\n",
    "    mats.sort(reverse=True)  # 큰 것부터 시도하면 조기 종료 가능\n",
    "\n",
    "    for mat in mats:\n",
    "        for i in range(h - mat + 1):\n",
    "            for j in range(w - mat + 1):\n",
    "                can_place = True\n",
    "                for x in range(i, i + mat):\n",
    "                    for y in range(j, j + mat):\n",
    "                        if park[x][y] != \"-1\":\n",
    "                            can_place = False\n",
    "                            break\n",
    "                    if not can_place:\n",
    "                        break\n",
    "                if can_place:\n",
    "                    return mat  # 가장 큰 것부터 찾았으므로 바로 리턴\n",
    "\n",
    "    return -1"
   ]
  }
 ],
 "metadata": {
  "kernelspec": {
   "display_name": "modeling_env",
   "language": "python",
   "name": "python3"
  },
  "language_info": {
   "codemirror_mode": {
    "name": "ipython",
    "version": 3
   },
   "file_extension": ".py",
   "mimetype": "text/x-python",
   "name": "python",
   "nbconvert_exporter": "python",
   "pygments_lexer": "ipython3",
   "version": "3.12.2"
  }
 },
 "nbformat": 4,
 "nbformat_minor": 2
}
