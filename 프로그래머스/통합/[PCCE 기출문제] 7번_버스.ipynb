{
 "cells": [
  {
   "cell_type": "code",
   "execution_count": 1,
   "metadata": {},
   "outputs": [],
   "source": [
    "def check(num):\n",
    "    if 0 > num:\n",
    "        return 0\n",
    "    else:\n",
    "        return num\n",
    "\n",
    "def get_off(station):\n",
    "\n",
    "    num = 0\n",
    "    for people in station:\n",
    "        if people == \"Off\":\n",
    "            num += 1\n",
    "\n",
    "    return num\n",
    "\n",
    "def get_on(station):\n",
    "\n",
    "    num = 0\n",
    "    for people in station:\n",
    "        if people == \"On\":\n",
    "            num += 1\n",
    "\n",
    "    return num\n",
    "\n",
    "\n",
    "def solution(seat, passengers):\n",
    "    \n",
    "    num_passenger = 0\n",
    "    for station in passengers:\n",
    "        num_passenger += get_on(station)\n",
    "        num_passenger -= get_off(station)\n",
    "    answer = check(seat - num_passenger)\n",
    "\n",
    "    return answer"
   ]
  }
 ],
 "metadata": {
  "kernelspec": {
   "display_name": "modeling_env",
   "language": "python",
   "name": "python3"
  },
  "language_info": {
   "codemirror_mode": {
    "name": "ipython",
    "version": 3
   },
   "file_extension": ".py",
   "mimetype": "text/x-python",
   "name": "python",
   "nbconvert_exporter": "python",
   "pygments_lexer": "ipython3",
   "version": "3.12.2"
  }
 },
 "nbformat": 4,
 "nbformat_minor": 2
}
