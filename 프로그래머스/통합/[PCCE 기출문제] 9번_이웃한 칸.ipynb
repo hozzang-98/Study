{
 "cells": [
  {
   "cell_type": "code",
   "execution_count": 5,
   "metadata": {},
   "outputs": [],
   "source": [
    "def solution(board, h, w):\n",
    "\n",
    "    answer = 0\n",
    "    n = len(board)\n",
    "\n",
    "    dx = [0, 1, -1, 0]\n",
    "    dy = [1, 0, 0, -1]\n",
    "    \n",
    "    for i in range(4):\n",
    "\n",
    "        h_check = h + dx[i]\n",
    "        w_check = w + dy[i]\n",
    "\n",
    "        if (0 <= h_check < n) and 0 <= w_check < n:\n",
    "\n",
    "            if board[h][w] == board[h_check][w_check]:\n",
    "\n",
    "                answer += 1\n",
    "\n",
    "    return answer"
   ]
  }
 ],
 "metadata": {
  "kernelspec": {
   "display_name": "modeling_env",
   "language": "python",
   "name": "python3"
  },
  "language_info": {
   "codemirror_mode": {
    "name": "ipython",
    "version": 3
   },
   "file_extension": ".py",
   "mimetype": "text/x-python",
   "name": "python",
   "nbconvert_exporter": "python",
   "pygments_lexer": "ipython3",
   "version": "3.12.2"
  }
 },
 "nbformat": 4,
 "nbformat_minor": 2
}
