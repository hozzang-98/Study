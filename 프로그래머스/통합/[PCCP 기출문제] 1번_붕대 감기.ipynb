{
 "cells": [
  {
   "cell_type": "code",
   "execution_count": 30,
   "metadata": {},
   "outputs": [],
   "source": [
    "from collections import deque\n",
    "\n",
    "def solution(bandage, health, attacks):\n",
    "    t, x, y = bandage                  # 붕대 정보 분해: t초 연속 → x씩 회복, 성공 시 y 추가 회복\n",
    "    max_health = health               # 최대 체력 저장\n",
    "    attacks = deque(attacks)         # 공격 리스트를 큐로 변환 (앞에서 pop() 하기 위함)\n",
    "    time = 1                          # 현재 시간 (1초부터 시작)\n",
    "    success = 0                       # 붕대 연속 성공 시간\n",
    "\n",
    "    while attacks:\n",
    "        if attacks[0][0] == time:     # 🔥 현재 시점에 공격이 있으면\n",
    "            damage = attacks.popleft()[1]   # 피해량 pop\n",
    "            health -= damage                 # 체력 감소\n",
    "            success = 0                      # 붕대 연속 성공 초기화\n",
    "            if health <= 0:                  # 🪦 체력 0 이하 → 죽음\n",
    "                return -1\n",
    "        else:                          # ✅ 공격이 없는 경우 → 붕대 감기 진행\n",
    "            health = min(max_health, health + x)   # 1초당 x만큼 회복\n",
    "            success += 1                       # 성공 카운트 +1\n",
    "\n",
    "            if success == t:                   # t초 연속 성공 시\n",
    "                health = min(max_health, health + y)  # 추가 회복\n",
    "                success = 0                         # 연속 초기화\n",
    "\n",
    "        time += 1     # 시간 1초 증가\n",
    "\n",
    "    return health     # 🎯 모든 공격 후 남은 체력 리턴"
   ]
  }
 ],
 "metadata": {
  "kernelspec": {
   "display_name": "modeling_env",
   "language": "python",
   "name": "python3"
  },
  "language_info": {
   "codemirror_mode": {
    "name": "ipython",
    "version": 3
   },
   "file_extension": ".py",
   "mimetype": "text/x-python",
   "name": "python",
   "nbconvert_exporter": "python",
   "pygments_lexer": "ipython3",
   "version": "3.12.2"
  }
 },
 "nbformat": 4,
 "nbformat_minor": 2
}
