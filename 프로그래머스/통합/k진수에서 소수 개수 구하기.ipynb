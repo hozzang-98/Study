{
 "cells": [
  {
   "cell_type": "code",
   "execution_count": 1,
   "metadata": {},
   "outputs": [],
   "source": [
    "def solution(n,k):\n",
    "    \n",
    "    answer = 0\n",
    "    \n",
    "    def n_to_k(n,k): # 숫자 n을 k진법으로 변환\n",
    "        k_num = ''\n",
    "        while n >= 1:\n",
    "            n,mod = divmod(n,k) # (몫, 나머지 )\n",
    "            k_num += str(mod) # 나머지를 string에 추가\n",
    "            change = k_num[::-1].split('0') # 역순으로 해 0을 기준으로 split\n",
    "        return change\n",
    "\n",
    "    def prime_number(k): # 소수 판별 \n",
    "        if k == 1:\n",
    "            return False\n",
    "        elif k == 2 or k == 3:\n",
    "            return True\n",
    "        for j in range(3,int(k**0.5+1),2): # 빠르게 소수를 판별하려면 자기 자신의 루트 값까지만 확인하면 됨\n",
    "                if k % j == 0:\n",
    "                    return False\n",
    "        return True\n",
    "\n",
    "    ntk = n_to_k(n,k)\n",
    "\n",
    "    for i in ntk:\n",
    "\n",
    "        if i == '':\n",
    "\n",
    "            continue\n",
    "\n",
    "        elif prime_number(int(i))==True:\n",
    "            answer += 1\n",
    "    \n",
    "    return answer"
   ]
  }
 ],
 "metadata": {
  "kernelspec": {
   "display_name": "modeling_env",
   "language": "python",
   "name": "python3"
  },
  "language_info": {
   "codemirror_mode": {
    "name": "ipython",
    "version": 3
   },
   "file_extension": ".py",
   "mimetype": "text/x-python",
   "name": "python",
   "nbconvert_exporter": "python",
   "pygments_lexer": "ipython3",
   "version": "3.12.2"
  }
 },
 "nbformat": 4,
 "nbformat_minor": 2
}
