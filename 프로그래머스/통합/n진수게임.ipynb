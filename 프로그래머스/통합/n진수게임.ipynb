{
 "cells": [
  {
   "cell_type": "markdown",
   "metadata": {},
   "source": [
    "튜브가 활동하는 코딩 동아리에서는 전통적으로 해오는 게임이 있다. 이 게임은 여러 사람이 둥글게 앉아서 숫자를 하나씩 차례대로 말하는 게임인데, 규칙은 다음과 같다.\n",
    "숫자를 0부터 시작해서 차례대로 말한다. 첫 번째 사람은 0, 두 번째 사람은 1, … 열 번째 사람은 9를 말한다.\n",
    "10 이상의 숫자부터는 한 자리씩 끊어서 말한다. 즉 열한 번째 사람은 10의 첫 자리인 1, 열두 번째 사람은 둘째 자리인 0을 말한다."
   ]
  },
  {
   "cell_type": "markdown",
   "metadata": {},
   "source": [
    "진법 n, 미리 구할 숫자의 갯수 t, 게임에 참가하는 인원 m, 튜브의 순서 p 가 주어진다."
   ]
  },
  {
   "cell_type": "markdown",
   "metadata": {},
   "source": [
    "튜브가 말해야 하는 숫자 t개를 공백 없이 차례대로 나타낸 문자열. 단, 10~15는 각각 대문자 A~F로 출력한다."
   ]
  },
  {
   "cell_type": "code",
   "execution_count": 7,
   "metadata": {},
   "outputs": [
    {
     "data": {
      "text/plain": [
       "'1010'"
      ]
     },
     "execution_count": 7,
     "metadata": {},
     "output_type": "execute_result"
    }
   ],
   "source": [
    "def n_convert(number, n):\n",
    "\n",
    "    if number == 0:\n",
    "        return '0'\n",
    "    \n",
    "    NUMBERS = \"0123456789ABCDEF\"\n",
    "    res = \"\"\n",
    "    while number > 0:\n",
    "        number, mod = divmod(number, n)\n",
    "        res += NUMBERS[mod]\n",
    "\n",
    "    return res[::-1]\n",
    "\n",
    "    \n",
    "n_convert(10,2)"
   ]
  },
  {
   "cell_type": "code",
   "execution_count": 11,
   "metadata": {},
   "outputs": [
    {
     "data": {
      "text/plain": [
       "'0111'"
      ]
     },
     "execution_count": 11,
     "metadata": {},
     "output_type": "execute_result"
    }
   ],
   "source": [
    "n = 2 # 진법\n",
    "t = 4 # 미리 구할 숫자의 개수\n",
    "m = 2 # 게임 참가 인원\n",
    "p = 1 # 튜브 순서\n",
    "\n",
    "# N진수 변환 함수\n",
    "def n_convert(number, n):\n",
    "\n",
    "    if number == 0:\n",
    "        return '0'\n",
    "    \n",
    "    NUMBERS = \"0123456789ABCDEF\"\n",
    "    res = \"\"\n",
    "    while number > 0:\n",
    "        number, mod = divmod(number, n)\n",
    "        res += NUMBERS[mod]\n",
    "\n",
    "    return res[::-1]\n",
    "\n",
    "def solution(n, t, m, p):\n",
    "\n",
    "    answer = ''\n",
    "    total = ''\n",
    "    tube_turn = p-1\n",
    "\n",
    "    for num in range(t*m):\n",
    "\n",
    "        total += n_convert(num,n) # 전체 숫자를 모두 구해놓음\n",
    "\n",
    "    while True:\n",
    "\n",
    "        if len(answer) == t: # 튜브가 말할 숫자의 개수가 다 채워지면 While문 종료\n",
    "\n",
    "            break\n",
    "\n",
    "        answer += total[tube_turn] # 그 중에서 튜브가 하는 인덱스들만 선별\n",
    "        tube_turn += m \n",
    "\n",
    "    return answer\n",
    "\n",
    "solution(n, t, m, p)"
   ]
  },
  {
   "cell_type": "code",
   "execution_count": 2,
   "metadata": {},
   "outputs": [
    {
     "data": {
      "text/plain": [
       "(2, 1)"
      ]
     },
     "execution_count": 2,
     "metadata": {},
     "output_type": "execute_result"
    }
   ],
   "source": [
    "divmod(5,2) # 몫, 나머지\t"
   ]
  }
 ],
 "metadata": {
  "kernelspec": {
   "display_name": "Python 3",
   "language": "python",
   "name": "python3"
  },
  "language_info": {
   "codemirror_mode": {
    "name": "ipython",
    "version": 3
   },
   "file_extension": ".py",
   "mimetype": "text/x-python",
   "name": "python",
   "nbconvert_exporter": "python",
   "pygments_lexer": "ipython3",
   "version": "3.12.2"
  }
 },
 "nbformat": 4,
 "nbformat_minor": 2
}
