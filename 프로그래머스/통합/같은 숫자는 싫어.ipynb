{
 "cells": [
  {
   "cell_type": "code",
   "execution_count": 1,
   "metadata": {},
   "outputs": [],
   "source": [
    "from collections import deque\n",
    "\n",
    "def solution(arr):\n",
    "    \n",
    "    answer = []\n",
    "    dq = deque(arr)\n",
    "    i = dq.popleft()\n",
    "    answer.append(i)\n",
    "\n",
    "    while dq:\n",
    "\n",
    "        i = dq.popleft()\n",
    "\n",
    "        if i != answer[-1]:\n",
    "\n",
    "            answer.append(i)\n",
    "\n",
    "    return answer"
   ]
  }
 ],
 "metadata": {
  "kernelspec": {
   "display_name": "modeling_env",
   "language": "python",
   "name": "python3"
  },
  "language_info": {
   "codemirror_mode": {
    "name": "ipython",
    "version": 3
   },
   "file_extension": ".py",
   "mimetype": "text/x-python",
   "name": "python",
   "nbconvert_exporter": "python",
   "pygments_lexer": "ipython3",
   "version": "3.12.2"
  }
 },
 "nbformat": 4,
 "nbformat_minor": 2
}
