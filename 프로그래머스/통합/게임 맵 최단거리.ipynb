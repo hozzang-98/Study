{
 "cells": [
  {
   "cell_type": "code",
   "execution_count": 17,
   "metadata": {},
   "outputs": [],
   "source": [
    "from collections import deque\n",
    "\n",
    "def solution(maps):\n",
    "\n",
    "    n, m = len(maps), len(maps[0])\n",
    "    directions = [(1,0), (0,1), (-1,0), (0,-1)]  # 동, 남, 서, 북\n",
    "    queue = deque([(0, 0, 1)])  # (x, y, 이동거리)\n",
    "    \n",
    "    while queue:\n",
    "    \n",
    "        x, y, dist = queue.popleft()\n",
    "        \n",
    "        if (x, y) == (n-1, m-1):  # 목표 지점 도달 시 즉시 반환\n",
    "        \n",
    "            return dist\n",
    "\n",
    "        for dx, dy in directions:\n",
    "        \n",
    "            nx, ny = x + dx, y + dy\n",
    "            \n",
    "            if 0 <= nx < n and 0 <= ny < m and maps[nx][ny] == 1:\n",
    "            \n",
    "                queue.append((nx, ny, dist + 1))\n",
    "                maps[nx][ny] = 0  # 방문 처리 (더 빠른 실행)\n",
    "    \n",
    "    return -1  # 도달 불가능"
   ]
  }
 ],
 "metadata": {
  "kernelspec": {
   "display_name": "modeling_env",
   "language": "python",
   "name": "python3"
  },
  "language_info": {
   "codemirror_mode": {
    "name": "ipython",
    "version": 3
   },
   "file_extension": ".py",
   "mimetype": "text/x-python",
   "name": "python",
   "nbconvert_exporter": "python",
   "pygments_lexer": "ipython3",
   "version": "3.12.2"
  }
 },
 "nbformat": 4,
 "nbformat_minor": 2
}
