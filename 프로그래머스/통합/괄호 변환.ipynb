{
 "cells": [
  {
   "cell_type": "code",
   "execution_count": 4,
   "metadata": {},
   "outputs": [],
   "source": [
    "def divide(p):\n",
    "\n",
    "    left, right = 0, 0\n",
    "    for i, char in enumerate(p):\n",
    "    \n",
    "        left += (char == '(')\n",
    "        right += (char == ')')\n",
    "        \n",
    "        if left == right:\n",
    "            return p[:i+1], p[i+1:]\n",
    "\n",
    "def good(p):\n",
    "\n",
    "    stack = []\n",
    "    for char in p:\n",
    "    \n",
    "        if char == '(':\n",
    "            stack.append(char)\n",
    "            \n",
    "        elif stack:\n",
    "            stack.pop()\n",
    "            \n",
    "        else:\n",
    "            return False\n",
    "            \n",
    "    return True\n",
    "\n",
    "def solution(p):\n",
    "\n",
    "    if not p:\n",
    "        return \"\"\n",
    "    \n",
    "    u, v = divide(p)\n",
    "    \n",
    "    if good(u):\n",
    "        return u + solution(v)\n",
    "    \n",
    "    return \"(\" + solution(v) + \")\" + \"\".join(')' if char == '(' else '(' for char in u[1:-1])"
   ]
  }
 ],
 "metadata": {
  "kernelspec": {
   "display_name": "modeling_env",
   "language": "python",
   "name": "python3"
  },
  "language_info": {
   "codemirror_mode": {
    "name": "ipython",
    "version": 3
   },
   "file_extension": ".py",
   "mimetype": "text/x-python",
   "name": "python",
   "nbconvert_exporter": "python",
   "pygments_lexer": "ipython3",
   "version": "3.12.2"
  }
 },
 "nbformat": 4,
 "nbformat_minor": 2
}
