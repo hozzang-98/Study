{
 "cells": [
  {
   "cell_type": "code",
   "execution_count": 2,
   "metadata": {},
   "outputs": [],
   "source": [
    "def solution(people, limit):\n",
    "\n",
    "    people.sort()  # 몸무게 오름차순 정렬\n",
    "    left, right = 0, len(people) - 1\n",
    "    answer = 0\n",
    "\n",
    "    while left <= right:\n",
    "    \n",
    "        if people[left] + people[right] <= limit:  # 가장 가벼운 사람 + 가장 무거운 사람 태울 수 있음\n",
    "        \n",
    "            left += 1  # 가벼운 사람 태움\n",
    "\n",
    "        right -= 1  # 무거운 사람 태움 (항상 pop)\n",
    "\n",
    "        answer += 1  # 보트 1개 사용\n",
    "\n",
    "    return answer"
   ]
  }
 ],
 "metadata": {
  "kernelspec": {
   "display_name": "modeling_env",
   "language": "python",
   "name": "python3"
  },
  "language_info": {
   "codemirror_mode": {
    "name": "ipython",
    "version": 3
   },
   "file_extension": ".py",
   "mimetype": "text/x-python",
   "name": "python",
   "nbconvert_exporter": "python",
   "pygments_lexer": "ipython3",
   "version": "3.12.2"
  }
 },
 "nbformat": 4,
 "nbformat_minor": 2
}
