{
 "cells": [
  {
   "cell_type": "code",
   "execution_count": 2,
   "metadata": {},
   "outputs": [],
   "source": [
    "def cnt(number):\n",
    "    count = 0\n",
    "    for i in range(1, int(number**0.5) + 1):\n",
    "        if number % i == 0:\n",
    "            count += 1\n",
    "            if i < number // i:\n",
    "                count += 1\n",
    "    return count\n",
    "\n",
    "def solution(number, limit, power):\n",
    "    answer = 0\n",
    "    for i in range(1, number + 1):\n",
    "        div = cnt(i)\n",
    "        if div > limit:\n",
    "            answer += power\n",
    "        else:\n",
    "            answer += div\n",
    "    return answer"
   ]
  }
 ],
 "metadata": {
  "kernelspec": {
   "display_name": "modeling_env",
   "language": "python",
   "name": "python3"
  },
  "language_info": {
   "codemirror_mode": {
    "name": "ipython",
    "version": 3
   },
   "file_extension": ".py",
   "mimetype": "text/x-python",
   "name": "python",
   "nbconvert_exporter": "python",
   "pygments_lexer": "ipython3",
   "version": "3.12.2"
  }
 },
 "nbformat": 4,
 "nbformat_minor": 2
}
