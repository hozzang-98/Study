{
 "cells": [
  {
   "cell_type": "code",
   "execution_count": null,
   "metadata": {},
   "outputs": [],
   "source": [
    "from collections import deque\n",
    "\n",
    "def solution(n, computers):\n",
    "\n",
    "    visited = [0] * n\n",
    "    answer = 0\n",
    "\n",
    "    def bfs(start):\n",
    "\n",
    "        queue = deque([start])\n",
    "\n",
    "        while queue:\n",
    "\n",
    "            node = queue.popleft() # BFS\n",
    "\n",
    "            for neighbor in range(n):\n",
    "\n",
    "                if computers[node][neighbor] == 1 and not visited[neighbor]:\n",
    "\n",
    "                    visited[neighbor] = 1\n",
    "                    queue.append(neighbor)\n",
    "\n",
    "    for i in range(n):\n",
    "\n",
    "        if not visited[i]:  # 방문하지 않은 노드라면 새로운 네트워크 시작\n",
    "\n",
    "            visited[i] = 1\n",
    "            bfs(i)\n",
    "            answer += 1\n",
    "\n",
    "    return answer"
   ]
  }
 ],
 "metadata": {
  "kernelspec": {
   "display_name": "modeling_env",
   "language": "python",
   "name": "python3"
  },
  "language_info": {
   "codemirror_mode": {
    "name": "ipython",
    "version": 3
   },
   "file_extension": ".py",
   "mimetype": "text/x-python",
   "name": "python",
   "nbconvert_exporter": "python",
   "pygments_lexer": "ipython3",
   "version": "3.12.2"
  }
 },
 "nbformat": 4,
 "nbformat_minor": 2
}
