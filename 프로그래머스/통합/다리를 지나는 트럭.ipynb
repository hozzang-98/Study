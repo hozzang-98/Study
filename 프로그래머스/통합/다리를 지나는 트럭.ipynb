{
 "cells": [
  {
   "cell_type": "code",
   "execution_count": 11,
   "metadata": {},
   "outputs": [],
   "source": [
    "from collections import deque\n",
    "\n",
    "def solution(bridge_length, weight, truck_weights):\n",
    "    time = 0\n",
    "    bridge = deque([0] * bridge_length)  # 다리 위 상태 (초기값은 0으로 채움)\n",
    "    total_weight = 0  # 다리 위 트럭 총 무게\n",
    "    truck_weights = deque(truck_weights)  # 대기 트럭을 deque로 변환\n",
    "\n",
    "    while truck_weights or total_weight > 0:  # 대기 트럭이 있거나 다리 위에 트럭이 남아있다면 계속 진행\n",
    "        time += 1\n",
    "        total_weight -= bridge.popleft()  # 다리를 빠져나간 트럭 무게 제거\n",
    "\n",
    "        if truck_weights and total_weight + truck_weights[0] <= weight:  # 새 트럭이 올라갈 수 있다면\n",
    "            truck = truck_weights.popleft()\n",
    "            bridge.append(truck)\n",
    "            total_weight += truck\n",
    "        else:  # 무게 초과로 트럭이 못 올라오면 0을 추가 (다리 길이 유지)\n",
    "            bridge.append(0)\n",
    "\n",
    "    return time"
   ]
  }
 ],
 "metadata": {
  "kernelspec": {
   "display_name": "modeling_env",
   "language": "python",
   "name": "python3"
  },
  "language_info": {
   "codemirror_mode": {
    "name": "ipython",
    "version": 3
   },
   "file_extension": ".py",
   "mimetype": "text/x-python",
   "name": "python",
   "nbconvert_exporter": "python",
   "pygments_lexer": "ipython3",
   "version": "3.12.2"
  }
 },
 "nbformat": 4,
 "nbformat_minor": 2
}
