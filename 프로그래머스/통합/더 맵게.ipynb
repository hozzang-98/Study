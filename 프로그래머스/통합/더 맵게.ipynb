{
 "cells": [
  {
   "cell_type": "code",
   "execution_count": null,
   "metadata": {},
   "outputs": [],
   "source": [
    "from heapq import heapify, heappop, heappush\n",
    "\n",
    "def solution(scoville, K):\n",
    "\n",
    "    heapify(scoville)  # 최소 힙 생성\n",
    "    mix_count = 0  # 섞는 횟수\n",
    "\n",
    "    while len(scoville) > 1 and scoville[0] < K:\n",
    "        \n",
    "        heappush(scoville, heappop(scoville) + 2 * heappop(scoville))\n",
    "        mix_count += 1\n",
    "\n",
    "    return mix_count if scoville[0] >= K else -1  # K 이상이면 mix_count 반환, 아니면 -1"
   ]
  }
 ],
 "metadata": {
  "kernelspec": {
   "display_name": "modeling_env",
   "language": "python",
   "name": "python3"
  },
  "language_info": {
   "codemirror_mode": {
    "name": "ipython",
    "version": 3
   },
   "file_extension": ".py",
   "mimetype": "text/x-python",
   "name": "python",
   "nbconvert_exporter": "python",
   "pygments_lexer": "ipython3",
   "version": "3.12.2"
  }
 },
 "nbformat": 4,
 "nbformat_minor": 2
}
