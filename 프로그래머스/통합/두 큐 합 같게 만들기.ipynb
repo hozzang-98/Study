{
 "cells": [
  {
   "cell_type": "markdown",
   "metadata": {},
   "source": [
    "길이가 같은 두 개의 큐가 주어집니다. 하나의 큐를 골라 원소를 추출(pop)하고, 추출된 원소를 다른 큐에 집어넣는(insert) 작업을 통해 각 큐의 원소 합이 같도록 만들려고 합니다.\n",
    "\n",
    "이때 필요한 작업의 최소 횟수를 구하고자 합니다. 한 번의 pop과 한 번의 insert를 합쳐서 작업을 1회 수행한 것으로 간주합니다."
   ]
  },
  {
   "cell_type": "markdown",
   "metadata": {},
   "source": [
    "queue1 = [3, 2, 7, 2]\n",
    "\n",
    "queue2 = [4, 6, 5, 1]\n",
    "\n",
    "1. queue2의 4, 6, 5를 순서대로 추출하여 queue1에 추가한 뒤, queue1의 3, 2, 7, 2를 순서대로 추출하여 queue2에 추가합니다. \n",
    "2. 그 결과 queue1은 [4, 6, 5], queue2는 [1, 3, 2, 7, 2]가 되며, 각 큐의 원소 합은 15로 같습니다. \n",
    "3. 이 방법은 작업을 7번 수행합니다.\n",
    "\n",
    "1. queue1에서 3을 추출하여 queue2에 추가합니다. 그리고 queue2에서 4를 추출하여 queue1에 추가합니다. \n",
    "2. 그 결과 queue1은 [2, 7, 2, 4], queue2는 [6, 5, 1, 3]가 되며, 각 큐의 원소 합은 15로 같습니다. \n",
    "3. 이 방법은 작업을 2번만 수행하며, 이보다 적은 횟수로 목표를 달성할 수 없습니다."
   ]
  },
  {
   "cell_type": "code",
   "execution_count": 5,
   "metadata": {},
   "outputs": [
    {
     "data": {
      "text/plain": [
       "2"
      ]
     },
     "execution_count": 5,
     "metadata": {},
     "output_type": "execute_result"
    }
   ],
   "source": [
    "queue1 = [3, 2, 7, 2]\n",
    "\n",
    "queue2 = [4, 6, 5, 1]\n",
    "\n",
    "def solution(queue1, queue2):\n",
    "\n",
    "    from collections import deque\n",
    "\n",
    "    answer = 0\n",
    "\n",
    "    queue1 = deque(queue1)\n",
    "    queue2 = deque(queue2)\n",
    "\n",
    "    limit = len(queue1) * 4\n",
    "\n",
    "    sum_q1 = sum(queue1)\n",
    "    sum_q2 = sum(queue2)\n",
    "\n",
    "    total = sum_q1 + sum_q2\n",
    "\n",
    "    if total % 2:\n",
    "        return -1\n",
    "\n",
    "    while True:\n",
    "\n",
    "        if sum_q1 > sum_q2:\n",
    "\n",
    "            tmp = queue1.popleft()\n",
    "            queue2.append(tmp)\n",
    "\n",
    "            sum_q1 -= tmp\n",
    "            sum_q2 += tmp\n",
    "\n",
    "            answer += 1\n",
    "\n",
    "        elif sum_q1 < sum_q2:\n",
    "\n",
    "            tmp = queue2.popleft()\n",
    "            queue1.append(tmp)\n",
    "\n",
    "            sum_q1 += tmp\n",
    "            sum_q2 -= tmp\n",
    "\n",
    "            answer += 1\n",
    "\n",
    "        else: # sum_q1 == sum_q2\n",
    "\n",
    "            break\n",
    "            \n",
    "        if answer >= limit:\n",
    "            \n",
    "            answer = - 1\n",
    "            break\n",
    "\n",
    "    return answer\n",
    "\n",
    "solution(queue1, queue2)"
   ]
  }
 ],
 "metadata": {
  "kernelspec": {
   "display_name": "Python 3",
   "language": "python",
   "name": "python3"
  },
  "language_info": {
   "codemirror_mode": {
    "name": "ipython",
    "version": 3
   },
   "file_extension": ".py",
   "mimetype": "text/x-python",
   "name": "python",
   "nbconvert_exporter": "python",
   "pygments_lexer": "ipython3",
   "version": "3.12.2"
  }
 },
 "nbformat": 4,
 "nbformat_minor": 2
}
