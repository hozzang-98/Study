{
 "cells": [
  {
   "cell_type": "code",
   "execution_count": 22,
   "metadata": {},
   "outputs": [],
   "source": [
    "def solution(s, skip, index):\n",
    "    # 사용 가능한 알파벳만 필터링\n",
    "    usable = [c for c in \"abcdefghijklmnopqrstuvwxyz\" if c not in skip]\n",
    "    \n",
    "    # 문자 → index 매핑을 빠르게 하기 위해 딕셔너리\n",
    "    alpha_map = {c: i for i, c in enumerate(usable)}\n",
    "    \n",
    "    answer = \"\"\n",
    "    for char in s:\n",
    "        new_idx = (alpha_map[char] + index) % len(usable)\n",
    "        answer += usable[new_idx]\n",
    "    \n",
    "    return answer"
   ]
  }
 ],
 "metadata": {
  "kernelspec": {
   "display_name": "modeling_env",
   "language": "python",
   "name": "python3"
  },
  "language_info": {
   "codemirror_mode": {
    "name": "ipython",
    "version": 3
   },
   "file_extension": ".py",
   "mimetype": "text/x-python",
   "name": "python",
   "nbconvert_exporter": "python",
   "pygments_lexer": "ipython3",
   "version": "3.12.2"
  }
 },
 "nbformat": 4,
 "nbformat_minor": 2
}
