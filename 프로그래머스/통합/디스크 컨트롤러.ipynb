{
 "cells": [
  {
   "cell_type": "code",
   "execution_count": null,
   "metadata": {},
   "outputs": [],
   "source": [
    "from heapq import heappush, heappop\n",
    "\n",
    "def solution(jobs):\n",
    "\n",
    "    jobs.sort()  # 요청 시간 기준 정렬\n",
    "    heap = []  # 실행 대기 작업 저장할 최소 힙\n",
    "    now, i, answer = 0, 0, 0\n",
    "    job_index = 0  # jobs 배열의 현재 인덱스\n",
    "    \n",
    "    while i < len(jobs):  # 모든 작업이 완료될 때까지 반복\n",
    "        # 현재 시간(now)까지 요청된 모든 작업을 heap에 추가\n",
    "        while job_index < len(jobs) and jobs[job_index][0] <= now:\n",
    "            heappush(heap, [jobs[job_index][1], jobs[job_index][0]])  # [소요 시간, 요청 시간]\n",
    "            job_index += 1\n",
    "        \n",
    "        if heap:  # 수행할 작업이 존재하면\n",
    "            cur = heappop(heap)  # 소요 시간이 가장 적은 작업 선택\n",
    "            now += cur[0]  # 현재 시간 갱신\n",
    "            answer += now - cur[1]  # 요청 시각부터 종료 시각까지 걸린 시간 누적\n",
    "            i += 1  # 완료된 작업 개수 증가\n",
    "        else:\n",
    "            now = jobs[job_index][0]  # 다음 작업이 들어오는 시간으로 건너뜀\n",
    "\n",
    "    return answer // len(jobs)"
   ]
  }
 ],
 "metadata": {
  "kernelspec": {
   "display_name": "modeling_env",
   "language": "python",
   "name": "python3"
  },
  "language_info": {
   "codemirror_mode": {
    "name": "ipython",
    "version": 3
   },
   "file_extension": ".py",
   "mimetype": "text/x-python",
   "name": "python",
   "nbconvert_exporter": "python",
   "pygments_lexer": "ipython3",
   "version": "3.12.2"
  }
 },
 "nbformat": 4,
 "nbformat_minor": 2
}
