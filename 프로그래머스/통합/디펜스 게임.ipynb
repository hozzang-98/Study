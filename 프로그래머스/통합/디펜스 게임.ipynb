{
 "cells": [
  {
   "cell_type": "markdown",
   "metadata": {},
   "source": [
    "준호는 요즘 디펜스 게임에 푹 빠져 있습니다. \n",
    "\n",
    "디펜스 게임은 준호가 보유한 병사 n명으로 연속되는 적의 공격을 순서대로 막는 게임입니다. \n",
    "\n",
    "디펜스 게임은 다음과 같은 규칙으로 진행됩니다."
   ]
  },
  {
   "cell_type": "markdown",
   "metadata": {},
   "source": [
    "준호는 처음에 병사 n명을 가지고 있습니다.\n",
    "\n",
    "매 라운드마다 enemy[i]마리의 적이 등장합니다.\n",
    "\n",
    "남은 병사 중 enemy[i]명 만큼 소모하여 enemy[i]마리의 적을 막을 수 있습니다.\n",
    "\n",
    "예를 들어 남은 병사가 7명이고, 적의 수가 2마리인 경우, 현재 라운드를 막으면 7 - 2 = 5명의 병사가 남습니다.\n",
    "\n",
    "남은 병사의 수보다 현재 라운드의 적의 수가 더 많으면 게임이 종료됩니다.\n",
    "\n",
    "게임에는 무적권이라는 스킬이 있으며, 무적권을 사용하면 병사의 소모없이 한 라운드의 공격을 막을 수 있습니다.\n",
    "\n",
    "무적권은 최대 k번 사용할 수 있습니다."
   ]
  },
  {
   "cell_type": "markdown",
   "metadata": {},
   "source": [
    "준호는 무적권을 적절한 시기에 사용하여 최대한 많은 라운드를 진행하고 싶습니다.\n",
    "\n",
    "준호가 처음 가지고 있는 병사의 수 n, \n",
    "사용 가능한 무적권의 횟수 k, \n",
    "매 라운드마다 공격해오는 적의 수가 순서대로 담긴 정수 배열 enemy가 매개변수로 주어집니다. \n",
    "\n",
    "준호가 몇 라운드까지 막을 수 있는지 return 하도록 solution 함수를 완성해주세요.\n",
    "\n",
    "모든 라운드를 막을 수 있는 경우에는 enemy[i]의 길이를 return 해주세요."
   ]
  },
  {
   "cell_type": "markdown",
   "metadata": {},
   "source": [
    "주어진 순서대로 데이터를 누적으로 계산하는 중에 조건에 부합하지 않은 상황이 발생했을 경우 현재 누적되어 있는 데이터 중 가장 큰 값, 혹은 작은 값의 제거가 필요한 경우 사용할 수 있는 자료구조는 힙(heap) 자료구조이다.\n"
   ]
  },
  {
   "cell_type": "code",
   "execution_count": 6,
   "metadata": {},
   "outputs": [
    {
     "data": {
      "text/plain": [
       "5"
      ]
     },
     "execution_count": 6,
     "metadata": {},
     "output_type": "execute_result"
    }
   ],
   "source": [
    "n = 7\n",
    "k = 3\n",
    "enemy = [4, 2, 4, 5, 3, 3, 1]\n",
    "\n",
    "\n",
    "def solution(n, k, enemy):\n",
    "\n",
    "    from heapq import heappush, heappop\n",
    "\n",
    "    answer = 0\n",
    "    heap = []\n",
    "    killlog = 0\n",
    "    for e in enemy:\n",
    "\n",
    "        heappush(heap, -e)\n",
    "        killlog += e\n",
    "\n",
    "        if killlog > n: # 죽인 만큼 병사 소모 되는데 병사보다 많으면 안됨\n",
    "\n",
    "            if k == 0: break # 만약 무적권도 모두 사용한 경우 끝\n",
    "\n",
    "            # 지금까지 젤 많은 병사가 소모된 곳을 찾아서 무적권을 사용\n",
    "            else: \n",
    "                \n",
    "                # 기본적으로 최소 자료 구조인데, 음수로 넣었기 때문에 절댓값이 가장 큰 값이 나옴\n",
    "                killlog += heappop(heap) \n",
    "                k -= 1 # 무적권 1회 차감\n",
    "        \n",
    "        answer += 1 # 라운드 진행\n",
    "\n",
    "    return answer\n",
    "\n",
    "\n",
    "def solution(n, k, enemy):\n",
    "\n",
    "    import heapq\n",
    "\n",
    "    hq = enemy[:k] # k번째까지는 일단 진행\n",
    "    heapq.heapify(hq) # Heap화\n",
    "\n",
    "    for i in range(3,len(enemy)):\n",
    "\n",
    "        n -= heapq.heappushpop(hq, enemy[i]) # i번째 라운드 적 수 넣고 제일 작은 거 Pop해서 병사 소모\n",
    "        \n",
    "        if n < 0:\n",
    "\n",
    "            return i\n",
    "\n",
    "    return len(enemy)\n",
    "\n",
    "solution(n, k, enemy)"
   ]
  }
 ],
 "metadata": {
  "kernelspec": {
   "display_name": "modeling_env",
   "language": "python",
   "name": "python3"
  },
  "language_info": {
   "codemirror_mode": {
    "name": "ipython",
    "version": 3
   },
   "file_extension": ".py",
   "mimetype": "text/x-python",
   "name": "python",
   "nbconvert_exporter": "python",
   "pygments_lexer": "ipython3",
   "version": "3.12.2"
  }
 },
 "nbformat": 4,
 "nbformat_minor": 2
}
