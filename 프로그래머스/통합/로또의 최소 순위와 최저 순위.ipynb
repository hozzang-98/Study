{
 "cells": [
  {
   "cell_type": "code",
   "execution_count": 3,
   "metadata": {},
   "outputs": [],
   "source": [
    "def solution(lottos, win_nums):\n",
    "    matched = len(set(lottos) & set(win_nums))  # 맞춘 숫자 개수\n",
    "    cnt_0 = lottos.count(0)                     # 0의 개수\n",
    "\n",
    "    rank = [6,6,5,4,3,2,1]  # index: 맞춘 수 → value: 등수\n",
    "\n",
    "    return [rank[matched + cnt_0], rank[matched]]"
   ]
  }
 ],
 "metadata": {
  "kernelspec": {
   "display_name": "modeling_env",
   "language": "python",
   "name": "python3"
  },
  "language_info": {
   "codemirror_mode": {
    "name": "ipython",
    "version": 3
   },
   "file_extension": ".py",
   "mimetype": "text/x-python",
   "name": "python",
   "nbconvert_exporter": "python",
   "pygments_lexer": "ipython3",
   "version": "3.12.2"
  }
 },
 "nbformat": 4,
 "nbformat_minor": 2
}
