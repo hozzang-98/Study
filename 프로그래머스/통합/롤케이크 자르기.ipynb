{
 "cells": [
  {
   "cell_type": "code",
   "execution_count": 1,
   "metadata": {},
   "outputs": [
    {
     "data": {
      "text/plain": [
       "2"
      ]
     },
     "execution_count": 1,
     "metadata": {},
     "output_type": "execute_result"
    }
   ],
   "source": [
    "topping = [1, 2, 1, 3, 1, 4, 1, 2]\n",
    "\n",
    "def solution(topping):\n",
    "\n",
    "    answer = 0\n",
    "\n",
    "    from collections import Counter\n",
    "\n",
    "    top_dic = Counter(topping)\n",
    "    bro_dic = set()\n",
    "    for i in topping:\n",
    "\n",
    "        top_dic[i] -= 1\n",
    "        bro_dic.add(i)\n",
    "\n",
    "        if top_dic[i] == 0:\n",
    "            top_dic.pop(i)    \n",
    "\n",
    "        if len(top_dic) == len(bro_dic):\n",
    "\n",
    "            answer += 1\n",
    "\n",
    "    return answer\n",
    "\n",
    "solution(topping)"
   ]
  }
 ],
 "metadata": {
  "kernelspec": {
   "display_name": "Python 3",
   "language": "python",
   "name": "python3"
  },
  "language_info": {
   "codemirror_mode": {
    "name": "ipython",
    "version": 3
   },
   "file_extension": ".py",
   "mimetype": "text/x-python",
   "name": "python",
   "nbconvert_exporter": "python",
   "pygments_lexer": "ipython3",
   "version": "3.11.9"
  }
 },
 "nbformat": 4,
 "nbformat_minor": 2
}
