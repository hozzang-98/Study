{
 "cells": [
  {
   "cell_type": "code",
   "execution_count": null,
   "metadata": {},
   "outputs": [],
   "source": [
    "def solution(answers):\n",
    "\n",
    "    patterns = [\n",
    "        [1, 2, 3, 4, 5],  \n",
    "        [2, 1, 2, 3, 2, 4, 2, 5],  \n",
    "        [3, 3, 1, 1, 2, 2, 4, 4, 5, 5]\n",
    "    ]\n",
    "\n",
    "    # 각 수포자의 점수 계산 (리스트 컴프리헨션 활용)\n",
    "    scores = [sum(a == p[i % len(p)] for i, a in enumerate(answers)) for p in patterns]\n",
    "\n",
    "    # 최고 점수를 가진 수포자 찾기\n",
    "    max_score = max(scores)\n",
    "\n",
    "    # 최고 점수를 가진 사람들 반환 (1번부터 시작하므로 index + 1)\n",
    "    return [i + 1 for i, score in enumerate(scores) if score == max_score]"
   ]
  }
 ],
 "metadata": {
  "kernelspec": {
   "display_name": "modeling_env",
   "language": "python",
   "name": "python3"
  },
  "language_info": {
   "codemirror_mode": {
    "name": "ipython",
    "version": 3
   },
   "file_extension": ".py",
   "mimetype": "text/x-python",
   "name": "python",
   "nbconvert_exporter": "python",
   "pygments_lexer": "ipython3",
   "version": "3.12.2"
  }
 },
 "nbformat": 4,
 "nbformat_minor": 2
}
