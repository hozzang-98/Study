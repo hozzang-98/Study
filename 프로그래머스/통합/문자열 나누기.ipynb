{
 "cells": [
  {
   "cell_type": "code",
   "execution_count": 2,
   "metadata": {},
   "outputs": [],
   "source": [
    "def solution(s):\n",
    "    \n",
    "    answer = 0\n",
    "    same, diff = 0, 0\n",
    "    x = s[0]\n",
    "\n",
    "    for i, c in enumerate(s):\n",
    "        if c == x:\n",
    "            same += 1\n",
    "        else:\n",
    "            diff += 1\n",
    "\n",
    "        if same == diff:\n",
    "            answer += 1\n",
    "            if i + 1 < len(s):\n",
    "                x = s[i + 1]\n",
    "            same = 0\n",
    "            diff = 0\n",
    "\n",
    "    # 루프에서 같은 수가 안 맞아서 끝났다면 마지막 분해 포함\n",
    "    if same != 0 or diff != 0:\n",
    "        answer += 1\n",
    "\n",
    "    return answer"
   ]
  }
 ],
 "metadata": {
  "kernelspec": {
   "display_name": "modeling_env",
   "language": "python",
   "name": "python3"
  },
  "language_info": {
   "codemirror_mode": {
    "name": "ipython",
    "version": 3
   },
   "file_extension": ".py",
   "mimetype": "text/x-python",
   "name": "python",
   "nbconvert_exporter": "python",
   "pygments_lexer": "ipython3",
   "version": "3.12.2"
  }
 },
 "nbformat": 4,
 "nbformat_minor": 2
}
