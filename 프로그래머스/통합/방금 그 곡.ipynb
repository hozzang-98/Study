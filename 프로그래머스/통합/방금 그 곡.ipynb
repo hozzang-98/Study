{
 "cells": [
  {
   "cell_type": "markdown",
   "metadata": {},
   "source": [
    "라디오를 자주 듣는 네오는 라디오에서 방금 나왔던 음악이 무슨 음악인지 궁금해질 때가 많다. \n",
    "\n",
    "그럴 때 네오는 다음 포털의 '방금그곡' 서비스를 이용하곤 한다. 방금그곡에서는 TV, 라디오 등에서 나온 음악에 관해 제목 등의 정보를 제공하는 서비스이다.\n",
    "\n",
    "\n",
    "네오는 자신이 기억한 멜로디를 가지고 방금그곡을 이용해 음악을 찾는다. \n",
    "\n",
    "그런데 라디오 방송에서는 한 음악을 반복해서 재생할 때도 있어서 네오가 기억하고 있는 멜로디는 음악 끝부분과 처음 부분이 이어서 재생된 멜로디일 수도 있다. \n",
    "\n",
    "반대로, 한 음악을 중간에 끊을 경우 원본 음악에는 네오가 기억한 멜로디가 들어있다 해도 그 곡이 네오가 들은 곡이 아닐 수도 있다. \n",
    "\n",
    "그렇기 때문에 네오는 기억한 멜로디를 재생 시간과 제공된 악보를 직접 보면서 비교하려고 한다. 다음과 같은 가정을 할 때 네오가 찾으려는 음악의 제목을 구하여라."
   ]
  },
  {
   "cell_type": "markdown",
   "metadata": {},
   "source": [
    "1. 방금그곡 서비스에서는 음악 제목, 재생이 시작되고 끝난 시각, 악보를 제공한다.\n",
    "2. 네오가 기억한 멜로디와 악보에 사용되는 음은 C, C#, D, D#, E, F, F#, G, G#, A, A#, B 12개이다. -> B# 까지 13개로 수정\n",
    "3. 각 음은 1분에 1개씩 재생된다. 음악은 반드시 처음부터 재생되며 음악 길이보다 재생된 시간이 길 때는 음악이 끊김 없이 처음부터 반복해서 재생된다. 음악 길이보다 재생된 시간이 짧을 때는 처음부터 재생 시간만큼만 재생된다.\n",
    "4. 음악이 00:00를 넘겨서까지 재생되는 일은 없다.\n",
    "5. 조건이 일치하는 음악이 여러 개일 때에는 라디오에서 재생된 시간이 제일 긴 음악 제목을 반환한다. 재생된 시간도 같을 경우 먼저 입력된 음악 제목을 반환한다.\n",
    "6. 조건이 일치하는 음악이 없을 때에는 “(None)”을 반환한다."
   ]
  },
  {
   "cell_type": "code",
   "execution_count": 3,
   "metadata": {},
   "outputs": [
    {
     "data": {
      "text/plain": [
       "'HELLO'"
      ]
     },
     "execution_count": 3,
     "metadata": {},
     "output_type": "execute_result"
    }
   ],
   "source": [
    "m = \"ABCDEFG\"\n",
    "musicinfos = [\"12:00,12:14,HELLO,CDEFGAB\", \"13:00,13:05,WORLD,ABCDEF\"]\n",
    "\n",
    "def change_code(c): # 코드를 간단하게 처리하기 위한 함수\n",
    "\n",
    "    note_dic = {'C#':'1', 'D#':'2', 'F#':'3', 'G#':'4', 'A#':'5', 'B#':'6'}\n",
    "\n",
    "    for k,v in note_dic.items():\n",
    "\n",
    "        c = c.replace(k,v)\n",
    "\n",
    "    return c\n",
    "\n",
    "def solution(m, musicinfos):\n",
    "    \n",
    "    answer = []\n",
    "\n",
    "    m = change_code(m)\n",
    "\n",
    "    for idx, info in enumerate(musicinfos):\n",
    "        \n",
    "        info = info.split(',')\n",
    "        start_time = info[0]\n",
    "        end_time = info[1]\n",
    "        song = info[2]\n",
    "\n",
    "        code_list = info[3]\n",
    "        code_list = change_code(code_list)\n",
    "\n",
    "        length = len(code_list)\n",
    "\n",
    "        time1 = int(start_time.split(':')[0]) * 60 + int(start_time.split(':')[1] )\n",
    "        time2 = int(end_time.split(':')[0]) * 60 + int(end_time.split(':')[1] )\n",
    "\n",
    "        # 두 시간의 차이를 계산\n",
    "        time_difference = time2 - time1\n",
    "\n",
    "        if time_difference >= length: # 코드 길이보다 긴 경우\n",
    "\n",
    "            full_code_list = code_list * (time_difference // length) + code_list[:time_difference % length]\n",
    "\n",
    "        else: # 코드 길이보다 짧은 경우\n",
    "\n",
    "            full_code_list = code_list[:time_difference]\n",
    "\n",
    "        if m in full_code_list:\n",
    "\n",
    "            answer.append([time_difference, idx, song]) # 재생 시간, 입력 순서, 노래 제목\n",
    "\n",
    "    if len(answer) == 0:\n",
    "\n",
    "        answer = \"(None)\"\n",
    "    \n",
    "    else: # 정렬 조건) 1. 재생 시간 내림차순 2. 입력 순서 오름차순 \n",
    "\n",
    "        answer = sorted(answer, key = lambda x: (-x[0], x[1]))[0][2]\n",
    "\n",
    "    return answer\n",
    "\n",
    "solution(m, musicinfos)"
   ]
  }
 ],
 "metadata": {
  "kernelspec": {
   "display_name": "modeling_env",
   "language": "python",
   "name": "python3"
  },
  "language_info": {
   "codemirror_mode": {
    "name": "ipython",
    "version": 3
   },
   "file_extension": ".py",
   "mimetype": "text/x-python",
   "name": "python",
   "nbconvert_exporter": "python",
   "pygments_lexer": "ipython3",
   "version": "3.12.2"
  }
 },
 "nbformat": 4,
 "nbformat_minor": 2
}
