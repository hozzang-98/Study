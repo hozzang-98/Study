{
 "cells": [
  {
   "cell_type": "code",
   "execution_count": 2,
   "metadata": {},
   "outputs": [],
   "source": [
    "def solution(gems):\n",
    "    answer = []\n",
    "    setlen = len(set(gems)) # 보석의 종류수\n",
    "    gemdict = {} # 보석 종류별로 개수를 셀 딕셔너리\n",
    "\n",
    "    start = 0 # 투 포인터의 시작점\n",
    "    end = 0 # 끝점\n",
    "    sect = len(gems)+1\n",
    "\n",
    "    while end < len(gems): # 끝점이 범위안에 있을 때만 검사\n",
    "\n",
    "        if gems[end] not in gemdict: # 새로 발견한 보석\n",
    "            gemdict[gems[end]] = 1\n",
    "        else: # 기존에 존재하는 보석\n",
    "            gemdict[gems[end]] += 1\n",
    "\n",
    "        end += 1 #보석을 새로 추가했으니 end칸 한 칸 뒤로\n",
    "\n",
    "        if len(gemdict) == setlen: # 범위안에 모든 보석이 존재할 때\n",
    "            while start < end:\n",
    "                if gemdict[gems[start]] > 1:  # 하나 이상 존재하면 뒤에도 더 존재한다는 뜻이므로\n",
    "                    gemdict[gems[start]] -= 1  # 하나를 제거해주고\n",
    "                    start += 1  # start칸을 뒤로 한칸 이동\n",
    "                elif end-start < sect: # 지정한 구간보다 현재 구간이 짧으면\n",
    "                    sect = end-start # 지정한 구간 바꿔주기\n",
    "                    answer = [start+1, end]\n",
    "                    break\n",
    "                else:\n",
    "                    break\n",
    "\n",
    "    return answer\n"
   ]
  }
 ],
 "metadata": {
  "kernelspec": {
   "display_name": "modeling_env",
   "language": "python",
   "name": "python3"
  },
  "language_info": {
   "codemirror_mode": {
    "name": "ipython",
    "version": 3
   },
   "file_extension": ".py",
   "mimetype": "text/x-python",
   "name": "python",
   "nbconvert_exporter": "python",
   "pygments_lexer": "ipython3",
   "version": "3.12.2"
  }
 },
 "nbformat": 4,
 "nbformat_minor": 2
}
