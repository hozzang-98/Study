{
 "cells": [
  {
   "cell_type": "code",
   "execution_count": 5,
   "metadata": {},
   "outputs": [],
   "source": [
    "def solution(arr):\n",
    "    n = (len(arr) + 1) // 2  # 숫자의 개수\n",
    "\n",
    "    nums = [int(arr[i]) for i in range(0, len(arr), 2)]\n",
    "    ops = [arr[i] for i in range(1, len(arr), 2)]\n",
    "\n",
    "    # DP 테이블 초기화 (최댓값, 최솟값 저장)\n",
    "    M = [[0] * n for _ in range(n)]\n",
    "    m = [[0] * n for _ in range(n)]\n",
    "\n",
    "    # Base case: 한 개의 숫자만 있는 경우\n",
    "    for i in range(n):\n",
    "        M[i][i] = nums[i]\n",
    "        m[i][i] = nums[i]\n",
    "\n",
    "    # 부분 수열의 길이를 1부터 점점 늘려가며 계산\n",
    "    for d in range(1, n):  \n",
    "        for i in range(n - d):  \n",
    "            j = i + d  # 끝점\n",
    "            maxcandidates, mincandidates = [], []\n",
    "\n",
    "            for k in range(i, j):  \n",
    "                if ops[k] == '-':\n",
    "                    maxcandidates.append(M[i][k] - m[k+1][j])\n",
    "                    mincandidates.append(m[i][k] - M[k+1][j])\n",
    "                else:\n",
    "                    maxcandidates.append(M[i][k] + M[k+1][j])\n",
    "                    mincandidates.append(m[i][k] + m[k+1][j])\n",
    "\n",
    "            M[i][j] = max(maxcandidates)\n",
    "            m[i][j] = min(mincandidates)\n",
    "\n",
    "    return M[0][n-1]"
   ]
  }
 ],
 "metadata": {
  "kernelspec": {
   "display_name": "modeling_env",
   "language": "python",
   "name": "python3"
  },
  "language_info": {
   "codemirror_mode": {
    "name": "ipython",
    "version": 3
   },
   "file_extension": ".py",
   "mimetype": "text/x-python",
   "name": "python",
   "nbconvert_exporter": "python",
   "pygments_lexer": "ipython3",
   "version": "3.12.2"
  }
 },
 "nbformat": 4,
 "nbformat_minor": 2
}
