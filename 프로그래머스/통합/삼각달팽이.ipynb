{
 "cells": [
  {
   "cell_type": "code",
   "execution_count": 1,
   "metadata": {},
   "outputs": [],
   "source": [
    "def solution(n):\n",
    "    \n",
    "    answer = [[0 for i in range(1,j+1)] for j in range(1,n+1)] # 삼각형\n",
    "    \n",
    "    x, y = -1, 0\n",
    "    num = 1\n",
    "    \n",
    "    for i in range(n): \n",
    "        \n",
    "        for j in range(i,n):\n",
    "            \n",
    "            if i % 3 == 0: # 왼쪽 변이면 아래로\n",
    "                \n",
    "                x += 1\n",
    "                \n",
    "            elif i % 3 == 1: # 아랫 변이면 오른쪽으로\n",
    "                \n",
    "                y += 1\n",
    "                \n",
    "            else: # 아니면 왼쪽 위로\n",
    "                \n",
    "                x -= 1\n",
    "                y -= 1\n",
    "                \n",
    "            answer[x][y] = num\n",
    "            num +=1\n",
    "    \n",
    "    return sum(answer,[])"
   ]
  }
 ],
 "metadata": {
  "kernelspec": {
   "display_name": "t_academy",
   "language": "python",
   "name": "python3"
  },
  "language_info": {
   "codemirror_mode": {
    "name": "ipython",
    "version": 3
   },
   "file_extension": ".py",
   "mimetype": "text/x-python",
   "name": "python",
   "nbconvert_exporter": "python",
   "pygments_lexer": "ipython3",
   "version": "3.10.8"
  },
  "orig_nbformat": 4
 },
 "nbformat": 4,
 "nbformat_minor": 2
}
