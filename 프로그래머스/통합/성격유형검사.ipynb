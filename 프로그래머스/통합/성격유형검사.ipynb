{
 "cells": [
  {
   "cell_type": "code",
   "execution_count": 1,
   "metadata": {},
   "outputs": [],
   "source": [
    "def solution(survey, choices):\n",
    "    answer = ''\n",
    "    dic = {'R':0, 'T':0, 'C':0, 'F':0,'J':0,'M':0, 'A':0, 'N':0}\n",
    "    \n",
    "    for sv, choice in zip(survey,choices):\n",
    "        \n",
    "        if choice > 4: # 동의 구간\n",
    "            dic[sv[1]] += choice - 4\n",
    "        else: # 비동의 구간\n",
    "            dic[sv[0]] += 4 - choice\n",
    "\n",
    "    if dic['R'] >= dic['T']: answer += 'R'\n",
    "    else: answer += 'T'\n",
    "        \n",
    "    if dic['C'] >= dic['F']: answer += 'C'\n",
    "    else: answer += 'F'\n",
    "    \n",
    "    if dic['J'] >= dic['M']: answer += 'J'\n",
    "    else: answer += 'M'\n",
    "    \n",
    "    if dic['A'] >= dic['N']: answer += 'A'\n",
    "    else: answer += 'N'\n",
    "    \n",
    "    return answer"
   ]
  }
 ],
 "metadata": {
  "kernelspec": {
   "display_name": "t_academy",
   "language": "python",
   "name": "python3"
  },
  "language_info": {
   "codemirror_mode": {
    "name": "ipython",
    "version": 3
   },
   "file_extension": ".py",
   "mimetype": "text/x-python",
   "name": "python",
   "nbconvert_exporter": "python",
   "pygments_lexer": "ipython3",
   "version": "3.10.8"
  },
  "orig_nbformat": 4
 },
 "nbformat": 4,
 "nbformat_minor": 2
}
