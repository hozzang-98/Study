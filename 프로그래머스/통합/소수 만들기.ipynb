{
 "cells": [
  {
   "cell_type": "code",
   "execution_count": null,
   "metadata": {},
   "outputs": [],
   "source": [
    "from itertools import combinations\n",
    "\n",
    "def isprime(x):\n",
    "    if x < 2:\n",
    "        return False\n",
    "    for i in range(2, int(x**0.5) + 1):\n",
    "        if x % i == 0:\n",
    "            return False\n",
    "    return True\n",
    "    \n",
    "def solution(nums):\n",
    "    answer = 0\n",
    "    \n",
    "    for c in combinations(nums, 3):   # 3개 숫자 조합\n",
    "        s = sum(c)\n",
    "        if isprime(s):          # 합이 소수라면\n",
    "            answer += 1              # 카운트 증가\n",
    "\n",
    "    return answer"
   ]
  }
 ],
 "metadata": {
  "kernelspec": {
   "display_name": "modeling_env",
   "language": "python",
   "name": "python3"
  },
  "language_info": {
   "codemirror_mode": {
    "name": "ipython",
    "version": 3
   },
   "file_extension": ".py",
   "mimetype": "text/x-python",
   "name": "python",
   "nbconvert_exporter": "python",
   "pygments_lexer": "ipython3",
   "version": "3.12.2"
  }
 },
 "nbformat": 4,
 "nbformat_minor": 2
}
