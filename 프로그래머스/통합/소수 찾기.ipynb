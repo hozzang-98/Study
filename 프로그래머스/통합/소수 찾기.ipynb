{
 "cells": [
  {
   "cell_type": "code",
   "execution_count": 1,
   "metadata": {},
   "outputs": [],
   "source": [
    "from itertools import permutations\n",
    "\n",
    "def solution(numbers):\n",
    "\n",
    "    def is_prime(n):\n",
    "    \n",
    "        if n < 2:\n",
    "            return False\n",
    "            \n",
    "        for i in range(2, int(n ** 0.5) + 1):\n",
    "        \n",
    "            if n % i == 0:\n",
    "                return False\n",
    "                \n",
    "        return True\n",
    "\n",
    "    # 가능한 모든 숫자 조합 생성\n",
    "    nums = {int(''.join(p)) for i in range(1, len(numbers) + 1) for p in permutations(numbers, i)}\n",
    "\n",
    "    # 소수 개수 반환\n",
    "    return sum(1 for num in nums if is_prime(num))"
   ]
  }
 ],
 "metadata": {
  "kernelspec": {
   "display_name": "modeling_env",
   "language": "python",
   "name": "python3"
  },
  "language_info": {
   "codemirror_mode": {
    "name": "ipython",
    "version": 3
   },
   "file_extension": ".py",
   "mimetype": "text/x-python",
   "name": "python",
   "nbconvert_exporter": "python",
   "pygments_lexer": "ipython3",
   "version": "3.12.2"
  }
 },
 "nbformat": 4,
 "nbformat_minor": 2
}
