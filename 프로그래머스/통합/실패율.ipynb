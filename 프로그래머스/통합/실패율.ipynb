{
 "cells": [
  {
   "cell_type": "markdown",
   "metadata": {},
   "source": [
    "실패율은 다음과 같이 정의한다.\n",
    "* 스테이지에 도달했으나 아직 클리어하지 못한 플레이어의 수 / 스테이지에 도달한 플레이어 수"
   ]
  },
  {
   "cell_type": "markdown",
   "metadata": {},
   "source": [
    "전체 스테이지의 개수 N, 게임을 이용하는 사용자가 현재 멈춰있는 스테이지의 번호가 담긴 배열 stages가 매개변수로 주어질 때, 실패율이 높은 스테이지부터 내림차순으로 스테이지의 번호가 담겨있는 배열을 return 하도록 solution 함수를 완성하라."
   ]
  },
  {
   "cell_type": "code",
   "execution_count": 37,
   "metadata": {},
   "outputs": [
    {
     "data": {
      "text/plain": [
       "[3, 4, 2, 1, 5]"
      ]
     },
     "execution_count": 37,
     "metadata": {},
     "output_type": "execute_result"
    }
   ],
   "source": [
    "N = 5\n",
    "stages = [2, 1, 2, 6, 2, 4, 3, 3]\n",
    "\n",
    "def solution(N, stages):\n",
    "\n",
    "    players_at_stage = [0] * (N + 1)  # N+1은 마지막 스테이지 클리어 이후 사람들\n",
    "\n",
    "    for stage in stages:\n",
    "        players_at_stage[stage-1] += 1 # 단계별 정체한 사람\n",
    "\n",
    "    total_players = len(stages)  # 총 유저 수\n",
    "\n",
    "    stage_dict = {}\n",
    "\n",
    "    for i in range(1,N+1):\n",
    "\n",
    "        if total_players == 0:\n",
    "\n",
    "            failure = 0\n",
    "\n",
    "        else:\n",
    "\n",
    "            failure = players_at_stage[i-1] / total_players\n",
    "\n",
    "        stage_dict[i] = failure\n",
    "        total_players -= players_at_stage[i-1] # 앞 스테이지에서 걸린 사람은 다음 스테이지 실패율에 관여하지 않으므로 \n",
    "\n",
    "    stage_dict = sorted(stage_dict.items(), key = lambda x:(-x[1], x[0])) # 정렬 기준: 실패율 내림차순, 스테이지 오름차순\n",
    "  \n",
    "    answer = [stage[0] for stage in stage_dict]\n",
    "\n",
    "    return answer\n",
    "\n",
    "solution(N, stages)"
   ]
  }
 ],
 "metadata": {
  "kernelspec": {
   "display_name": "Python 3",
   "language": "python",
   "name": "python3"
  },
  "language_info": {
   "codemirror_mode": {
    "name": "ipython",
    "version": 3
   },
   "file_extension": ".py",
   "mimetype": "text/x-python",
   "name": "python",
   "nbconvert_exporter": "python",
   "pygments_lexer": "ipython3",
   "version": "3.12.2"
  }
 },
 "nbformat": 4,
 "nbformat_minor": 2
}
