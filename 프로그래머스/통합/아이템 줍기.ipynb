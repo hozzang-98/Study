{
 "cells": [
  {
   "cell_type": "code",
   "execution_count": 33,
   "metadata": {},
   "outputs": [],
   "source": [
    "def solution(rectangle, characterX, characterY, itemX, itemY):\n",
    "\n",
    "    from collections import deque\n",
    "\n",
    "    answer = 0\n",
    "    field = [[-1]*102 for i in range(102)] # 겹치는 부분을 방지하기 위헤 2배 처리\n",
    "\n",
    "    for r in rectangle:\n",
    "\n",
    "        x1, y1, x2, y2 = map(lambda x: x*2, r)\n",
    "\n",
    "        for x in range(x1, x2+1):\n",
    "            \n",
    "            for y in range(y1, y2+1):\n",
    "\n",
    "                if x1 < x < x2 and y1 < y < y2: # 사각형 내부 \n",
    "\n",
    "                    field[x][y] = 0 # 지나갈 수 없음\n",
    "\n",
    "                elif field[x][y] != 0: # 이전 사각형의 내부가 아니면서 테두리인 곳\n",
    "\n",
    "                    field[x][y] = 1 # 지나갈 수 있음\n",
    "\n",
    "    visited = [[1]*102 for i in range(102)] \n",
    "\n",
    "    dx = [1,0,0,-1]\n",
    "    dy = [0,1,-1,0]\n",
    "\n",
    "    q = deque()\n",
    "\n",
    "    q.append([characterX*2,characterY*2])\n",
    "\n",
    "    while q:\n",
    "\n",
    "        x, y = q.popleft() # BFS\n",
    "        \n",
    "        if (x == itemX * 2) and (y == itemY * 2):\n",
    "\n",
    "            answer = visited[x][y] // 2\n",
    "\n",
    "            break\n",
    "\n",
    "        for d in range(4):\n",
    "            \n",
    "            next_x = x + dx[d]\n",
    "            next_y = y + dy[d]\n",
    "\n",
    "            if field[next_x][next_y] == 1 and visited[next_x][next_y] == 1: # (갈 수 있는 곳) & (아직 안 간 곳)\n",
    "\n",
    "                q.append([next_x, next_y])\n",
    "                visited[next_x][next_y] = visited[x][y] + 1\n",
    "\n",
    "    return answer"
   ]
  }
 ],
 "metadata": {
  "kernelspec": {
   "display_name": "modeling_env",
   "language": "python",
   "name": "python3"
  },
  "language_info": {
   "codemirror_mode": {
    "name": "ipython",
    "version": 3
   },
   "file_extension": ".py",
   "mimetype": "text/x-python",
   "name": "python",
   "nbconvert_exporter": "python",
   "pygments_lexer": "ipython3",
   "version": "3.12.2"
  }
 },
 "nbformat": 4,
 "nbformat_minor": 2
}
