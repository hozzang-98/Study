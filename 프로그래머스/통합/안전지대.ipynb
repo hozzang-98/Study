{
 "cells": [
  {
   "cell_type": "code",
   "execution_count": 1,
   "metadata": {},
   "outputs": [],
   "source": [
    "def solution(board):\n",
    "    dx = [-1, 1, 0, 0, -1, -1, 1, 1]\n",
    "    dy = [0, 0, -1, 1, -1, 1, -1, 1]\n",
    "    \n",
    "    length = len(board)\n",
    "    \n",
    "    # 1. 지뢰(1)가 있는 위치를 찾아 위험지역 표시\n",
    "    for i in range(length):\n",
    "        for j in range(length):\n",
    "            if board[i][j] == 1:\n",
    "                for d in range(8):\n",
    "                    nx, ny = i + dx[d], j + dy[d]\n",
    "                    if 0 <= nx < length and 0 <= ny < length and board[nx][ny] == 0:\n",
    "                        board[nx][ny] = 2  # 위험 지역 표시\n",
    "\n",
    "    # 2. 안전한 지역(0) 개수 세기\n",
    "    return sum(row.count(0) for row in board)"
   ]
  }
 ],
 "metadata": {
  "kernelspec": {
   "display_name": "modeling_env",
   "language": "python",
   "name": "python3"
  },
  "language_info": {
   "codemirror_mode": {
    "name": "ipython",
    "version": 3
   },
   "file_extension": ".py",
   "mimetype": "text/x-python",
   "name": "python",
   "nbconvert_exporter": "python",
   "pygments_lexer": "ipython3",
   "version": "3.12.2"
  }
 },
 "nbformat": 4,
 "nbformat_minor": 2
}
