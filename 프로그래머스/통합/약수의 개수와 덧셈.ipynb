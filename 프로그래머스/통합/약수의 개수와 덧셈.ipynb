{
 "cells": [
  {
   "cell_type": "code",
   "execution_count": 2,
   "metadata": {},
   "outputs": [],
   "source": [
    "def solution(left, right):\n",
    "\n",
    "    answer = 0\n",
    "    \n",
    "    for t in range(left, right+1):\n",
    "        # 약수 개수가 홀수인 경우 → 제곱수인 경우!\n",
    "        if int(t ** 0.5) ** 2 == t:\n",
    "            answer -= t  # 홀수 개수면 빼기\n",
    "        else:\n",
    "            answer += t  # 짝수 개수면 더하기\n",
    "            \n",
    "    return answer"
   ]
  }
 ],
 "metadata": {
  "kernelspec": {
   "display_name": "modeling_env",
   "language": "python",
   "name": "python3"
  },
  "language_info": {
   "codemirror_mode": {
    "name": "ipython",
    "version": 3
   },
   "file_extension": ".py",
   "mimetype": "text/x-python",
   "name": "python",
   "nbconvert_exporter": "python",
   "pygments_lexer": "ipython3",
   "version": "3.12.2"
  }
 },
 "nbformat": 4,
 "nbformat_minor": 2
}
