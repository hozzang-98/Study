{
 "cells": [
  {
   "cell_type": "code",
   "execution_count": 1,
   "metadata": {},
   "outputs": [],
   "source": [
    "def solution(tickets):\n",
    "\n",
    "    from collections import defaultdict\n",
    "\n",
    "    airport_graph = defaultdict(list) # 공항별로 여러 도착지가 있을 수 있으므로 Value의 자료 구조가 List 형식인 Dictionary 사용\n",
    "\n",
    "    for start, end in tickets: # 공항별 도착지 정보 추가\n",
    "\n",
    "        airport_graph[start].append(end)\n",
    "\n",
    "    answer = []\n",
    "\n",
    "    # 후입 선출 Stack, ICN 출발지 고정\n",
    "    stack = ['ICN']\n",
    "\n",
    "    for key in airport_graph.keys():\n",
    "\n",
    "        airport_graph[key].sort(reverse=True) # 알파벳 순서로 먼저 경유하고 Stack을 활용하므로 역정렬\n",
    "\n",
    "    while stack:\n",
    "\n",
    "        node = stack.pop()\n",
    "\n",
    "        if airport_graph[node]: # 아직 갈 경유지가 남았다면\n",
    "\n",
    "            stack.append(node) # 출발지\n",
    "            stack.append(airport_graph[node].pop()) # 목적지\n",
    "\n",
    "        else: # 더 이상 갈 경유지가 없다면 경로 추가\n",
    "            \n",
    "            answer.append(node)\n",
    "\n",
    "\n",
    "    return answer[::-1] # 역순이므로 반대로 반환"
   ]
  }
 ],
 "metadata": {
  "kernelspec": {
   "display_name": "modeling_env",
   "language": "python",
   "name": "python3"
  },
  "language_info": {
   "codemirror_mode": {
    "name": "ipython",
    "version": 3
   },
   "file_extension": ".py",
   "mimetype": "text/x-python",
   "name": "python",
   "nbconvert_exporter": "python",
   "pygments_lexer": "ipython3",
   "version": "3.12.2"
  }
 },
 "nbformat": 4,
 "nbformat_minor": 2
}
