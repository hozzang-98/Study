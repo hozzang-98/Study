{
 "cells": [
  {
   "cell_type": "code",
   "execution_count": 1,
   "metadata": {},
   "outputs": [],
   "source": [
    "from heapq import heappush, heappop\n",
    "\n",
    "def solution(operations):\n",
    "\n",
    "    min_heap = []  # 최소 힙 (최솟값 관리)\n",
    "    max_heap = []  # 최대 힙 (최댓값 관리)\n",
    "    entry = {}  # 유효한 값만 관리하는 딕셔너리\n",
    "\n",
    "    for operation in operations:\n",
    "        action, value = operation.split()\n",
    "        value = int(value)\n",
    "\n",
    "        if action == \"I\":\n",
    "            heappush(min_heap, value)  # 최소 힙에 삽입\n",
    "            heappush(max_heap, -value)  # 최대 힙에 삽입 (음수로 변환하여 저장)\n",
    "            entry[value] = entry.get(value, 0) + 1  # 삽입된 값 카운트 증가\n",
    "\n",
    "        elif action == \"D\":\n",
    "            if not entry:  # 큐가 비어 있으면 무시\n",
    "                continue\n",
    "\n",
    "            if value == 1:  # 최댓값 삭제\n",
    "                while max_heap:\n",
    "                    max_val = -heappop(max_heap)\n",
    "                    if entry.get(max_val, 0) > 0:\n",
    "                        entry[max_val] -= 1\n",
    "                        if entry[max_val] == 0:\n",
    "                            del entry[max_val]\n",
    "                        break\n",
    "            else:  # 최솟값 삭제\n",
    "                while min_heap:\n",
    "                    min_val = heappop(min_heap)\n",
    "                    if entry.get(min_val, 0) > 0:\n",
    "                        entry[min_val] -= 1\n",
    "                        if entry[min_val] == 0:\n",
    "                            del entry[min_val]\n",
    "                        break\n",
    "\n",
    "    if not entry:  # 모든 요소가 삭제되었으면 [0,0] 반환\n",
    "    \n",
    "        return [0, 0]\n",
    "\n",
    "    # 최댓값과 최솟값 찾기\n",
    "    while max_heap and entry.get(-max_heap[0], 0) == 0:\n",
    "    \n",
    "        heappop(max_heap)  # 유효하지 않은 값 제거\n",
    "        \n",
    "    while min_heap and entry.get(min_heap[0], 0) == 0:\n",
    "    \n",
    "        heappop(min_heap)  # 유효하지 않은 값 제거\n",
    "\n",
    "    return [-max_heap[0], min_heap[0]]"
   ]
  }
 ],
 "metadata": {
  "kernelspec": {
   "display_name": "modeling_env",
   "language": "python",
   "name": "python3"
  },
  "language_info": {
   "codemirror_mode": {
    "name": "ipython",
    "version": 3
   },
   "file_extension": ".py",
   "mimetype": "text/x-python",
   "name": "python",
   "nbconvert_exporter": "python",
   "pygments_lexer": "ipython3",
   "version": "3.12.2"
  }
 },
 "nbformat": 4,
 "nbformat_minor": 2
}
