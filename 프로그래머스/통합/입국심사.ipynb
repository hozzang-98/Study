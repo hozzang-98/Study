{
 "cells": [
  {
   "cell_type": "code",
   "execution_count": 1,
   "metadata": {},
   "outputs": [],
   "source": [
    "def solution(n, times):\n",
    "\n",
    "    left, right = 1, max(times) * n  # 최소 시간, 최대 시간\n",
    "    \n",
    "    while left <= right:\n",
    "        \n",
    "        mid = (left + right) // 2\n",
    "        processed = sum(mid // time for time in times)  # 현재 시간 동안 심사한 총 인원\n",
    "        \n",
    "        if processed >= n:  \n",
    "            right = mid - 1  # 최소 시간 줄이기\n",
    "        else:\n",
    "            left = mid + 1  # 최소 시간 늘리기\n",
    "\n",
    "    return left  # 최소 시간이 정답"
   ]
  }
 ],
 "metadata": {
  "kernelspec": {
   "display_name": "modeling_env",
   "language": "python",
   "name": "python3"
  },
  "language_info": {
   "codemirror_mode": {
    "name": "ipython",
    "version": 3
   },
   "file_extension": ".py",
   "mimetype": "text/x-python",
   "name": "python",
   "nbconvert_exporter": "python",
   "pygments_lexer": "ipython3",
   "version": "3.12.2"
  }
 },
 "nbformat": 4,
 "nbformat_minor": 2
}
