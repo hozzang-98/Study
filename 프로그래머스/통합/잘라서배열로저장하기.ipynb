{
 "cells": [
  {
   "cell_type": "code",
   "execution_count": 1,
   "metadata": {},
   "outputs": [],
   "source": [
    "def solution(my_str, n):\n",
    "    \n",
    "    answer = []\n",
    "    \n",
    "    v = len(my_str) // n\n",
    "    mod = len(my_str) % n\n",
    "    \n",
    "    \n",
    "    for i in range(v):\n",
    "        answer.append(my_str[i*n:(i+1)*n])\n",
    "    \n",
    "    if mod != 0: # n의 배수가 아니어서 나머지 문자열이 있다면\n",
    "        answer.append(my_str[v*n:])\n",
    "\n",
    "    return answer"
   ]
  }
 ],
 "metadata": {
  "kernelspec": {
   "display_name": "t_academy",
   "language": "python",
   "name": "python3"
  },
  "language_info": {
   "codemirror_mode": {
    "name": "ipython",
    "version": 3
   },
   "file_extension": ".py",
   "mimetype": "text/x-python",
   "name": "python",
   "nbconvert_exporter": "python",
   "pygments_lexer": "ipython3",
   "version": "3.10.8"
  },
  "orig_nbformat": 4
 },
 "nbformat": 4,
 "nbformat_minor": 2
}
