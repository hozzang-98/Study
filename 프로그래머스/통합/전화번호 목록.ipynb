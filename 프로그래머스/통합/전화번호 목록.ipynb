{
 "cells": [
  {
   "cell_type": "code",
   "execution_count": 1,
   "metadata": {},
   "outputs": [],
   "source": [
    "def solution(phone_book):\n",
    "\n",
    "    hash_map = {number: True for number in phone_book}  # 전화번호 목록을 해시맵(딕셔너리)으로 저장\n",
    "\n",
    "    for number in phone_book:\n",
    "        prefix = \"\"\n",
    "        for s in number[:-1]:  # 마지막 글자는 제외하고 접두어를 하나씩 만들어 검사\n",
    "            prefix += s\n",
    "            if prefix in hash_map:  # 접두어가 해시맵에 존재하면 False 반환\n",
    "                return False\n",
    "                \n",
    "    return True  # 접두어 관계가 없으면 True 반환"
   ]
  }
 ],
 "metadata": {
  "kernelspec": {
   "display_name": "modeling_env",
   "language": "python",
   "name": "python3"
  },
  "language_info": {
   "codemirror_mode": {
    "name": "ipython",
    "version": 3
   },
   "file_extension": ".py",
   "mimetype": "text/x-python",
   "name": "python",
   "nbconvert_exporter": "python",
   "pygments_lexer": "ipython3",
   "version": "3.12.2"
  }
 },
 "nbformat": 4,
 "nbformat_minor": 2
}
