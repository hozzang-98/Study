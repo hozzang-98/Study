{
 "cells": [
  {
   "cell_type": "code",
   "execution_count": 1,
   "metadata": {},
   "outputs": [],
   "source": [
    "def solution(n):\n",
    "    \n",
    "    answer = [[0] * n for _ in range(n)]  # n x n 배열 초기화\n",
    "    dx = [0, 1, 0, -1]  # 오른쪽, 아래, 왼쪽, 위 이동\n",
    "    dy = [1, 0, -1, 0]\n",
    "    \n",
    "    x, y, direction = 0, 0, 0  # 시작 위치 (0,0) / 방향(오른쪽)\n",
    "    \n",
    "    for i in range(1, n * n + 1):\n",
    "        answer[x][y] = i  # 현재 위치에 숫자 채우기\n",
    "        nx, ny = x + dx[direction], y + dy[direction]  # 다음 위치 계산\n",
    "\n",
    "        # 배열의 범위를 벗어나거나 이미 값이 채워진 경우 → 방향 전환\n",
    "        if nx < 0 or nx >= n or ny < 0 or ny >= n or answer[nx][ny] != 0:\n",
    "            direction = (direction + 1) % 4  # 방향 변경 (오른쪽 → 아래 → 왼쪽 → 위 순환)\n",
    "            nx, ny = x + dx[direction], y + dy[direction]\n",
    "\n",
    "        x, y = nx, ny  # 위치 업데이트\n",
    "    \n",
    "    return answer"
   ]
  }
 ],
 "metadata": {
  "kernelspec": {
   "display_name": "modeling_env",
   "language": "python",
   "name": "python3"
  },
  "language_info": {
   "codemirror_mode": {
    "name": "ipython",
    "version": 3
   },
   "file_extension": ".py",
   "mimetype": "text/x-python",
   "name": "python",
   "nbconvert_exporter": "python",
   "pygments_lexer": "ipython3",
   "version": "3.12.2"
  }
 },
 "nbformat": 4,
 "nbformat_minor": 2
}
