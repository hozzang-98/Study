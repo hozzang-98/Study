{
 "cells": [
  {
   "cell_type": "code",
   "execution_count": 1,
   "metadata": {},
   "outputs": [],
   "source": [
    "from collections import Counter\n",
    "\n",
    "def solution(a, b, c, d):\n",
    "    counts = Counter([a, b, c, d])  # 주사위 숫자의 빈도 계산\n",
    "    items = sorted(counts.items(), key=lambda x: -x[1])  # 빈도 기준으로 내림차순 정렬\n",
    "\n",
    "    if items[0][1] == 4:  # p p p p (모두 같음)\n",
    "        return 1111 * items[0][0]\n",
    "    \n",
    "    if items[0][1] == 3:  # p p p q\n",
    "        p, q = items[0][0], items[1][0]\n",
    "        return (10 * p + q) ** 2\n",
    "    \n",
    "    if items[0][1] == 2:\n",
    "        if len(items) == 2:  # p p q q\n",
    "            p, q = items[0][0], items[1][0]\n",
    "            return (p + q) * abs(p - q)\n",
    "        else:  # p p q r\n",
    "            return items[1][0] * items[2][0]\n",
    "\n",
    "    return min(items)[0]  # p q r s (모두 다름)"
   ]
  }
 ],
 "metadata": {
  "kernelspec": {
   "display_name": "modeling_env",
   "language": "python",
   "name": "python3"
  },
  "language_info": {
   "codemirror_mode": {
    "name": "ipython",
    "version": 3
   },
   "file_extension": ".py",
   "mimetype": "text/x-python",
   "name": "python",
   "nbconvert_exporter": "python",
   "pygments_lexer": "ipython3",
   "version": "3.12.2"
  }
 },
 "nbformat": 4,
 "nbformat_minor": 2
}
