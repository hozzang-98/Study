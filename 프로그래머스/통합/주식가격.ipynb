{
 "cells": [
  {
   "cell_type": "code",
   "execution_count": null,
   "metadata": {},
   "outputs": [],
   "source": [
    "def solution(prices): # [1.2.3.2.3]\n",
    "\n",
    "    n = len(prices)\n",
    "    answer = [0] * n  # 결과 리스트 (초기값 0)\n",
    "    stack = []  # 인덱스를 저장하는 스택\n",
    "\n",
    "    for i in range(n):\n",
    "    \n",
    "        while stack and prices[stack[-1]] > prices[i]:  # 가격이 떨어지면 (이전 인덱스의 price > 이번 인덱스 price)\n",
    "            \n",
    "            idx = stack.pop()  # 이전 인덱스를 꺼냄\n",
    "            answer[idx] = i - idx  # 지속된 시간 계산\n",
    "            \n",
    "        stack.append(i)  # 현재 인덱스를 스택에 추가\n",
    "\n",
    "    while stack:  # 스택에 남아있는 인덱스는 끝까지 가격이 유지된 경우\n",
    "    \n",
    "        idx = stack.pop()\n",
    "        answer[idx] = n - 1 - idx  # 마지막까지 유지된 시간\n",
    "\n",
    "    return answer"
   ]
  }
 ],
 "metadata": {
  "kernelspec": {
   "display_name": "modeling_env",
   "language": "python",
   "name": "python3"
  },
  "language_info": {
   "codemirror_mode": {
    "name": "ipython",
    "version": 3
   },
   "file_extension": ".py",
   "mimetype": "text/x-python",
   "name": "python",
   "nbconvert_exporter": "python",
   "pygments_lexer": "ipython3",
   "version": "3.12.2"
  }
 },
 "nbformat": 4,
 "nbformat_minor": 2
}
