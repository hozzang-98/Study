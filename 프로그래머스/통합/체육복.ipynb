{
 "cells": [
  {
   "cell_type": "code",
   "execution_count": 2,
   "metadata": {},
   "outputs": [],
   "source": [
    "def solution(n, lost, reserve):\n",
    "\n",
    "    # 중복 제거 (여벌 체육복이 있지만 도난당한 경우)\n",
    "    set_reserve = sorted(set(reserve) - set(lost))\n",
    "    set_lost = sorted(set(lost) - set(reserve))\n",
    "\n",
    "    for r in set_reserve:\n",
    "    \n",
    "        if r - 1 in set_lost:  # 앞번호 학생에게 먼저 빌려줌\n",
    "        \n",
    "            set_lost.remove(r - 1)\n",
    "            \n",
    "        elif r + 1 in set_lost:  # 없으면 뒷번호 학생에게 빌려줌\n",
    "        \n",
    "            set_lost.remove(r + 1)\n",
    "\n",
    "    return n - len(set_lost)  # 체육복을 못 빌린 학생 수 제외"
   ]
  }
 ],
 "metadata": {
  "kernelspec": {
   "display_name": "modeling_env",
   "language": "python",
   "name": "python3"
  },
  "language_info": {
   "codemirror_mode": {
    "name": "ipython",
    "version": 3
   },
   "file_extension": ".py",
   "mimetype": "text/x-python",
   "name": "python",
   "nbconvert_exporter": "python",
   "pygments_lexer": "ipython3",
   "version": "3.12.2"
  }
 },
 "nbformat": 4,
 "nbformat_minor": 2
}
