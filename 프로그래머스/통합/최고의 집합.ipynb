{
 "cells": [
  {
   "cell_type": "markdown",
   "metadata": {},
   "source": [
    "자연수 n 개로 이루어진 중복 집합(multi set, 편의상 이후에는 \"집합\"으로 통칭) 중에 다음 두 조건을 만족하는 집합을 최고의 집합이라고 합니다.\n",
    "\n",
    "1. 각 원소의 합이 S가 되는 수의 집합\n",
    "2. 위 조건을 만족하면서 각 원소의 곱 이 최대가 되는 집합"
   ]
  },
  {
   "cell_type": "markdown",
   "metadata": {},
   "source": [
    "예를 들어서 자연수 2개로 이루어진 집합 중 합이 9가 되는 집합은 다음과 같이 4개가 있습니다.\n",
    "\n",
    "{ 1, 8 }, { 2, 7 }, { 3, 6 }, { 4, 5 }\n",
    "\n",
    "그중 각 원소의 곱이 최대인 { 4, 5 }가 최고의 집합입니다.\n",
    "\n",
    "집합의 원소의 개수 n과 모든 원소들의 합 s가 매개변수로 주어질 때, 최고의 집합을 return 하는 solution 함수를 완성해주세요."
   ]
  },
  {
   "cell_type": "markdown",
   "metadata": {},
   "source": [
    "최고의 집합은 오름차순으로 정렬된 1차원 배열(list, vector) 로 return 해주세요.\n",
    "\n",
    "만약 최고의 집합이 존재하지 않는 경우에 크기가 1인 1차원 배열(list, vector) 에 -1 을 채워서 return 해주세요.\n",
    "\n",
    "자연수의 개수 n은 1 이상 10,000 이하의 자연수입니다.\n",
    "\n",
    "모든 원소들의 합 s는 1 이상, 100,000,000 이하의 자연수입니다."
   ]
  },
  {
   "cell_type": "code",
   "execution_count": 13,
   "metadata": {},
   "outputs": [
    {
     "data": {
      "text/plain": [
       "[-1]"
      ]
     },
     "execution_count": 13,
     "metadata": {},
     "output_type": "execute_result"
    }
   ],
   "source": [
    "n = 2\n",
    "s = 1\n",
    "\n",
    "def solution(s, n):\n",
    "\n",
    "    # 존재하지 않는 경우\n",
    "    if s < n: \n",
    "        answer = [-1]\n",
    "        return answer\n",
    "\n",
    "    # 원소의 합 S\n",
    "    div, mod = divmod(s,n)\n",
    "    \n",
    "    # 골고루 나눠준 상태에서 시작\n",
    "    answer = [div for _ in range(n)]\n",
    "\n",
    "    if mod != 0:\n",
    "    \n",
    "        for i in range(n): \n",
    "            \n",
    "            # 편차가 가장 작은 것이 곱이 크다는 것을 이용\n",
    "            answer[i] += 1\n",
    "            mod -= 1\n",
    "\n",
    "            if mod == 0: break\n",
    "\n",
    "    answer.sort()\n",
    "\n",
    "    return answer\n",
    "\n",
    "solution(s, n)"
   ]
  }
 ],
 "metadata": {
  "kernelspec": {
   "display_name": "modeling_env",
   "language": "python",
   "name": "python3"
  },
  "language_info": {
   "codemirror_mode": {
    "name": "ipython",
    "version": 3
   },
   "file_extension": ".py",
   "mimetype": "text/x-python",
   "name": "python",
   "nbconvert_exporter": "python",
   "pygments_lexer": "ipython3",
   "version": "3.12.2"
  }
 },
 "nbformat": 4,
 "nbformat_minor": 2
}
