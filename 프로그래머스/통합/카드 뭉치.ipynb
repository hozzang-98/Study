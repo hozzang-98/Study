{
 "cells": [
  {
   "cell_type": "code",
   "execution_count": 4,
   "metadata": {},
   "outputs": [],
   "source": [
    "from collections import deque\n",
    "\n",
    "def solution(cards1, cards2, goal):\n",
    "    \n",
    "    cards1 = deque(cards1)\n",
    "    cards2 = deque(cards2)\n",
    "    \n",
    "    for word in goal:\n",
    "\n",
    "        if cards1 and word == cards1[0]:\n",
    "\n",
    "            cards1.popleft()\n",
    "\n",
    "        elif cards2 and word == cards2[0]:\n",
    "\n",
    "            cards2.popleft()\n",
    "\n",
    "        else:\n",
    "\n",
    "            return 'No' \n",
    "\n",
    "    return 'Yes'"
   ]
  }
 ],
 "metadata": {
  "kernelspec": {
   "display_name": "modeling_env",
   "language": "python",
   "name": "python3"
  },
  "language_info": {
   "codemirror_mode": {
    "name": "ipython",
    "version": 3
   },
   "file_extension": ".py",
   "mimetype": "text/x-python",
   "name": "python",
   "nbconvert_exporter": "python",
   "pygments_lexer": "ipython3",
   "version": "3.12.2"
  }
 },
 "nbformat": 4,
 "nbformat_minor": 2
}
