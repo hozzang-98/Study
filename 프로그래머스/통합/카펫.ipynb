{
 "cells": [
  {
   "cell_type": "code",
   "execution_count": null,
   "metadata": {},
   "outputs": [],
   "source": [
    "def solution(brown, yellow):\n",
    "    \n",
    "    total = brown + yellow\n",
    "    \n",
    "    for height in range(1, int(total ** 0.5) + 1):  \n",
    "    \n",
    "        if total % height == 0:  \n",
    "            width = total // height  \n",
    "            \n",
    "            if 2 * (width + height - 2) == brown:  \n",
    "                \n",
    "                return [width, height]"
   ]
  }
 ],
 "metadata": {
  "kernelspec": {
   "display_name": "modeling_env",
   "language": "python",
   "name": "python3"
  },
  "language_info": {
   "codemirror_mode": {
    "name": "ipython",
    "version": 3
   },
   "file_extension": ".py",
   "mimetype": "text/x-python",
   "name": "python",
   "nbconvert_exporter": "python",
   "pygments_lexer": "ipython3",
   "version": "3.12.2"
  }
 },
 "nbformat": 4,
 "nbformat_minor": 2
}
