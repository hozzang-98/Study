{
 "cells": [
  {
   "cell_type": "code",
   "execution_count": 1,
   "metadata": {},
   "outputs": [],
   "source": [
    "def solution(board, moves):\n",
    "    stack = []\n",
    "    answer = 0\n",
    "\n",
    "    for move in moves:\n",
    "        for j in range(len(board)):\n",
    "            if board[j][move - 1] != 0:\n",
    "                doll = board[j][move - 1]\n",
    "                board[j][move - 1] = 0  # 인형을 뽑았으니 해당 위치를 비우기\n",
    "                \n",
    "                if stack and stack[-1] == doll:  # 스택이 비어있지 않고, 같은 인형이면 터뜨리기\n",
    "                    stack.pop()\n",
    "                    answer += 2\n",
    "                else:\n",
    "                    stack.append(doll)  # 바구니에 추가\n",
    "                \n",
    "                break  # 이미 인형을 뽑았으므로 더 이상 탐색할 필요 없음\n",
    "                \n",
    "    return answer"
   ]
  }
 ],
 "metadata": {
  "kernelspec": {
   "display_name": "modeling_env",
   "language": "python",
   "name": "python3"
  },
  "language_info": {
   "codemirror_mode": {
    "name": "ipython",
    "version": 3
   },
   "file_extension": ".py",
   "mimetype": "text/x-python",
   "name": "python",
   "nbconvert_exporter": "python",
   "pygments_lexer": "ipython3",
   "version": "3.12.2"
  }
 },
 "nbformat": 4,
 "nbformat_minor": 2
}
