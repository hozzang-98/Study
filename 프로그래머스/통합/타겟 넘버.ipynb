{
 "cells": [
  {
   "cell_type": "code",
   "execution_count": 1,
   "metadata": {},
   "outputs": [],
   "source": [
    "def solution(numbers, target):\n",
    "\n",
    "    def dfs(idx, current_sum):\n",
    "        # 모든 숫자를 사용한 경우\n",
    "        if idx == len(numbers):\n",
    "            return 1 if current_sum == target else 0\n",
    "        \n",
    "        # 다음 숫자를 더하거나 빼는 두 가지 경우 탐색\n",
    "        return dfs(idx + 1, current_sum + numbers[idx]) + dfs(idx + 1, current_sum - numbers[idx])\n",
    "    \n",
    "    return dfs(0, 0)"
   ]
  }
 ],
 "metadata": {
  "kernelspec": {
   "display_name": "modeling_env",
   "language": "python",
   "name": "python3"
  },
  "language_info": {
   "codemirror_mode": {
    "name": "ipython",
    "version": 3
   },
   "file_extension": ".py",
   "mimetype": "text/x-python",
   "name": "python",
   "nbconvert_exporter": "python",
   "pygments_lexer": "ipython3",
   "version": "3.12.2"
  }
 },
 "nbformat": 4,
 "nbformat_minor": 2
}
