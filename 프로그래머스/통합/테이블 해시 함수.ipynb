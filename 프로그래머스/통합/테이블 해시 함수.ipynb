{
 "cells": [
  {
   "cell_type": "code",
   "execution_count": 1,
   "metadata": {},
   "outputs": [],
   "source": [
    "def solution(data, col, row_begin, row_end):\n",
    "    # 정렬 (1. col 번째 컬럼 기준 오름차순, 2. 첫 번째 컬럼 기준 내림차순)\n",
    "    data.sort(key=lambda x: (x[col-1], -x[0]))\n",
    "\n",
    "    result = 0\n",
    "    for i in range(row_begin, row_end + 1):\n",
    "        S_i = sum(n % i for n in data[i-1])  # 각 값의 나머지 합\n",
    "        result ^= S_i  # XOR 연산\n",
    "    \n",
    "    return result"
   ]
  }
 ],
 "metadata": {
  "kernelspec": {
   "display_name": "modeling_env",
   "language": "python",
   "name": "python3"
  },
  "language_info": {
   "codemirror_mode": {
    "name": "ipython",
    "version": 3
   },
   "file_extension": ".py",
   "mimetype": "text/x-python",
   "name": "python",
   "nbconvert_exporter": "python",
   "pygments_lexer": "ipython3",
   "version": "3.12.2"
  }
 },
 "nbformat": 4,
 "nbformat_minor": 2
}
