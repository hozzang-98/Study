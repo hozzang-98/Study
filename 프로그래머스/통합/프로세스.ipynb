{
 "cells": [
  {
   "cell_type": "code",
   "execution_count": null,
   "metadata": {},
   "outputs": [],
   "source": [
    "from collections import deque\n",
    "\n",
    "def solution(priorities, location):\n",
    "    answer = 0\n",
    "    dq = deque([(priority, idx) for idx, priority in enumerate(priorities)])\n",
    "    \n",
    "    while dq:\n",
    "        # 큐에서 첫 번째 프로세스를 꺼냄\n",
    "        i = dq.popleft()\n",
    "        \n",
    "        # 큐에서 우선순위가 더 높은 프로세스가 있으면, 현재 프로세스는 다시 큐에 넣음\n",
    "        if any(i[0] < p[0] for p in dq):\n",
    "            dq.append(i)\n",
    "        else:\n",
    "            # 우선순위가 더 높은 프로세스가 없으면 실행\n",
    "            answer += 1\n",
    "            if i[1] == location:\n",
    "                return answer\n",
    "\n",
    "    return answer"
   ]
  }
 ],
 "metadata": {
  "kernelspec": {
   "display_name": "modeling_env",
   "language": "python",
   "name": "python3"
  },
  "language_info": {
   "codemirror_mode": {
    "name": "ipython",
    "version": 3
   },
   "file_extension": ".py",
   "mimetype": "text/x-python",
   "name": "python",
   "nbconvert_exporter": "python",
   "pygments_lexer": "ipython3",
   "version": "3.12.2"
  }
 },
 "nbformat": 4,
 "nbformat_minor": 2
}
