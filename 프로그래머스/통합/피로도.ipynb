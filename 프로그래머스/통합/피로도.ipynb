{
 "cells": [
  {
   "cell_type": "code",
   "execution_count": 1,
   "metadata": {},
   "outputs": [],
   "source": [
    "def solution(k, dungeons):\n",
    "\n",
    "    max_cnt = 0\n",
    "    visited = [False] * len(dungeons)  # 방문 여부 체크\n",
    "    \n",
    "    def dfs(k, count):\n",
    "    \n",
    "        nonlocal max_cnt\n",
    "        max_cnt = max(max_cnt, count)  # 최대 던전 개수 갱신\n",
    "\n",
    "        for i in range(len(dungeons)):\n",
    "            if not visited[i] and k >= dungeons[i][0]:  # 방문 안 했고 탐험 가능하면 진행\n",
    "                visited[i] = True\n",
    "                dfs(k - dungeons[i][1], count + 1)  # 피로도 차감 후 탐험\n",
    "                visited[i] = False  # 백트래킹 (다른 경로 탐색을 위해 원상 복구)\n",
    "\n",
    "    dfs(k, 0)  # 초기 탐색 시작\n",
    "    \n",
    "    return max_cnt"
   ]
  }
 ],
 "metadata": {
  "kernelspec": {
   "display_name": "modeling_env",
   "language": "python",
   "name": "python3"
  },
  "language_info": {
   "codemirror_mode": {
    "name": "ipython",
    "version": 3
   },
   "file_extension": ".py",
   "mimetype": "text/x-python",
   "name": "python",
   "nbconvert_exporter": "python",
   "pygments_lexer": "ipython3",
   "version": "3.12.2"
  }
 },
 "nbformat": 4,
 "nbformat_minor": 2
}
