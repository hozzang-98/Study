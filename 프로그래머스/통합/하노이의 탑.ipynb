{
 "cells": [
  {
   "cell_type": "code",
   "execution_count": 6,
   "metadata": {},
   "outputs": [],
   "source": [
    "def hanoi(n, start, end, help):\n",
    "\n",
    "    if n == 1:\n",
    "        return [[start, end]]  # 원판이 하나면 바로 이동\n",
    "\n",
    "    moves = []  # 이동 경로를 저장할 리스트\n",
    "\n",
    "    # 1. n-1개의 원판을 보조 기둥으로 이동 (end를 보조 기둥으로 활용)\n",
    "    moves.extend(hanoi(n - 1, start, help, end))\n",
    "\n",
    "    # 2. 가장 큰 원판을 목표 기둥으로 이동\n",
    "    moves.append([start, end])\n",
    "\n",
    "    # 3. n-1개의 원판을 목표 기둥으로 이동 (start를 보조 기둥으로 활용)\n",
    "    moves.extend(hanoi(n - 1, help, end, start))\n",
    "\n",
    "    return moves  # 최종 이동 리스트 반환\n",
    "\n",
    "def solution(n):\n",
    "\n",
    "    return hanoi(n, 1, 3, 2)"
   ]
  }
 ],
 "metadata": {
  "kernelspec": {
   "display_name": "modeling_env",
   "language": "python",
   "name": "python3"
  },
  "language_info": {
   "codemirror_mode": {
    "name": "ipython",
    "version": 3
   },
   "file_extension": ".py",
   "mimetype": "text/x-python",
   "name": "python",
   "nbconvert_exporter": "python",
   "pygments_lexer": "ipython3",
   "version": "3.12.2"
  }
 },
 "nbformat": 4,
 "nbformat_minor": 2
}
